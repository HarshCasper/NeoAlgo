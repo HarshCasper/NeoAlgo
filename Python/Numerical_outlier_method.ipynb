{
  "nbformat": 4,
  "nbformat_minor": 0,
  "metadata": {
    "colab": {
      "name": "Numerical_outlier_method.ipynb",
      "provenance": []
    },
    "kernelspec": {
      "name": "python3",
      "display_name": "Python 3"
    }
  },
  "cells": [
    {
      "cell_type": "markdown",
      "metadata": {
        "id": "qsCL6wPSvJwY",
        "colab_type": "text"
      },
      "source": [
        "## IMPORTS"
      ]
    },
    {
      "cell_type": "code",
      "metadata": {
        "id": "zAy3SIjkvAXF",
        "colab_type": "code",
        "colab": {}
      },
      "source": [
        "import numpy as np\n",
        "import random\n",
        "import matplotlib.pyplot as plt"
      ],
      "execution_count": 1,
      "outputs": []
    },
    {
      "cell_type": "markdown",
      "metadata": {
        "id": "KPueZtWmvPFE",
        "colab_type": "text"
      },
      "source": [
        "###Creating a Pseudo-Dataset"
      ]
    },
    {
      "cell_type": "code",
      "metadata": {
        "id": "vm5Vyj80vOsu",
        "colab_type": "code",
        "colab": {}
      },
      "source": [
        "def dataset_developer(n, probability=[0.05, 0.05, 0.15, 0.5, 0.15]):\n",
        "\tX = []\n",
        "\twhile len(X)<n:\n",
        "\t\tt = random.random()\n",
        "\t\tif t<probability[0]:\n",
        "\t\t\tX.append(random.random()*0.2)\n",
        "\t\telif t>=probability[0] and t<probability[1]+probability[0]:\n",
        "\t\t\tX.append(random.random()*0.2+0.2)\n",
        "\t\telif t>= probability[1]+probability[0] and t<probability[0]+probability[1]+probability[2]:\n",
        "\t\t\tX.append(random.random()*0.2+0.2*2)\n",
        "\t\telif t>=probability[0]+probability[1]+probability[2] and t<probability[0]+probability[1]+probability[2]+probability[3]:\n",
        "\t\t\tX.append(random.random()*0.2+0.2*3)\n",
        "\t\telse:\n",
        "\t\t\tX.append(random.random()*0.2+0.2*4)\n",
        "\treturn X"
      ],
      "execution_count": 2,
      "outputs": []
    },
    {
      "cell_type": "markdown",
      "metadata": {
        "id": "ub_0QO4yvX0m",
        "colab_type": "text"
      },
      "source": [
        "## Numeric Outlier Method"
      ]
    },
    {
      "cell_type": "code",
      "metadata": {
        "id": "pZjhkSe1vVol",
        "colab_type": "code",
        "colab": {}
      },
      "source": [
        "def numeric_outlier(X, k):\n",
        "\tQ1 = X[int((len(X)+1)/4)]\n",
        "\tQ3 = X[int(((len(X)+1)*3)/4)]\n",
        "\tIQR = Q3 - Q1\n",
        "\toutliers_index = [i for i in range(len(X)) if X[i]<Q1-k*IQR or X[i]>Q3+k*IQR]\n",
        "\treturn outliers_index"
      ],
      "execution_count": 3,
      "outputs": []
    },
    {
      "cell_type": "markdown",
      "metadata": {
        "id": "fqcMJF9kvdF4",
        "colab_type": "text"
      },
      "source": [
        "### Visualising Results"
      ]
    },
    {
      "cell_type": "code",
      "metadata": {
        "id": "SiUV9VncvahN",
        "colab_type": "code",
        "colab": {}
      },
      "source": [
        "def imager(X, Y, outlier_X, outlier_Y, l):\n",
        "\tX = random.sample(X, len(X))\n",
        "\toutlier_X = random.sample(outlier_X, l)\n",
        "\tplt.scatter(X, Y, color='green', marker='.')\n",
        "\tplt.scatter(outlier_X, outlier_Y, color='red', marker='*')\n",
        "\tplt.plot()"
      ],
      "execution_count": 4,
      "outputs": []
    },
    {
      "cell_type": "markdown",
      "metadata": {
        "id": "7vTK89yEvilL",
        "colab_type": "text"
      },
      "source": [
        "### Checking Results"
      ]
    },
    {
      "cell_type": "code",
      "metadata": {
        "id": "SCvCWBGFvgFp",
        "colab_type": "code",
        "colab": {}
      },
      "source": [
        "def accuracy(outliers_index, X):\n",
        "\taccuracy = 0\n",
        "\tfor j in range(len(X)):\n",
        "\t\tif j in outliers_index:\n",
        "\t\t\tif X[j]<0.5 or X[j]>0.9:\n",
        "\t\t\t\taccuracy += 1\n",
        "\t\telse:\n",
        "\t\t\tif X[j]>=0.5 and X[j]<=0.9:\n",
        "\t\t\t\taccuracy += 1\n",
        "\treturn accuracy/len(X)"
      ],
      "execution_count": 5,
      "outputs": []
    },
    {
      "cell_type": "markdown",
      "metadata": {
        "id": "2EVHIXUKvnca",
        "colab_type": "text"
      },
      "source": [
        "### Creating MAIN"
      ]
    },
    {
      "cell_type": "code",
      "metadata": {
        "id": "bHTRjouDvkXe",
        "colab_type": "code",
        "colab": {}
      },
      "source": [
        "def main(X, k):\n",
        "\toutliers_index = numeric_outlier(X, k)\n",
        "\toutliers = [X[i] for i in outliers_index]\n",
        "\tX_c = [X[i] for i in range(len(X)) if i not in outliers_index]\n",
        "\timager(range(len(X_c)), X_c, range(len(X_c)), outliers, len(outliers_index))\n",
        "\treturn accuracy(outliers_index, X)"
      ],
      "execution_count": 6,
      "outputs": []
    },
    {
      "cell_type": "code",
      "metadata": {
        "id": "niEZuZZ3vsAp",
        "colab_type": "code",
        "colab": {
          "base_uri": "https://localhost:8080/",
          "height": 282
        },
        "outputId": "f2f5f8f0-4b59-40a9-bd5a-c41b1bac73d8"
      },
      "source": [
        "k = 0.45\n",
        "random.seed(0)\n",
        "X = dataset_developer(1000)\n",
        "X.sort()\n",
        "acc = main(X, k)\n",
        "print(acc)"
      ],
      "execution_count": 7,
      "outputs": [
        {
          "output_type": "stream",
          "text": [
            "0.985\n"
          ],
          "name": "stdout"
        },
        {
          "output_type": "display_data",
          "data": {
            "image/png": "[encoded data removed]",
            "text/plain": [
              "<Figure size 432x288 with 1 Axes>"
            ]
          },
          "metadata": {
            "tags": [],
            "needs_background": "light"
          }
        }
      ]
    },
    {
      "cell_type": "code",
      "metadata": {
        "id": "IR-5AH5zvxtV",
        "colab_type": "code",
        "colab": {}
      },
      "source": [
        ""
      ],
      "execution_count": 7,
      "outputs": []
    }
  ]
}