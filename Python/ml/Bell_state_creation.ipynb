{
 "cells": [
  {
   "cell_type": "code",
   "execution_count": 2,
   "metadata": {
    "id": "zNvhCnuxI7A4"
   },
   "outputs": [],
   "source": [
    "from qiskit import __qiskit_version__, QuantumCircuit, execute, Aer\n",
    "from qiskit.visualization import plot_histogram, plot_bloch_vector, plot_bloch_multivector\n"
   ]
  },
  {
   "cell_type": "markdown",
   "metadata": {
    "id": "p2528vcNQoaw"
   },
   "source": [
    "# Bell States\n",
    "Bell state - A specific quantum state of two qubits which is maximally entangled. They represent the simplest examples of entangled states.Bell states are used in Quantum Teleportation,Quantum cryptography and super dense coding.\n",
    "There are four known Bell states:\n",
    "\n",
    "\n",
    "$$|\\phi^+\\rangle = \\frac{1}{\\sqrt{2}}\\big(|00\\rangle+|11\\rangle\\big)$$\n",
    "$$|\\phi^-\\rangle = \\frac{1}{\\sqrt{2}}\\big(|00\\rangle-|11\\rangle\\big)$$\n",
    "$$|\\psi^+\\rangle = \\frac{1}{\\sqrt{2}}\\big(|01\\rangle+|10\\rangle\\big)$$\n",
    "$$|\\psi^-\\rangle = \\frac{1}{\\sqrt{2}}\\big(|01\\rangle-|10\\rangle\\big)$$\n"
   ]
  },
  {
   "cell_type": "markdown",
   "metadata": {
    "id": "b-VIlaFOTDso"
   },
   "source": [
    "# Creating the phi-plus state\n",
    "To create the phi+ state we first take two qubits(both initalized to $|0\\rangle$). Then add the following gates\n",
    "- A Hadamard gate H on the first qubit, which puts it into the superposition state $(|0\\rangle+|1\\rangle)/\\sqrt{2}$. \n",
    "- A controlled-Not operation (CX) between the two qubits. "
   ]
  },
  {
   "cell_type": "code",
   "execution_count": 3,
   "metadata": {
    "colab": {
     "base_uri": "https://localhost:8080/",
     "height": 94
    },
    "id": "o-ndWokIQu4z",
    "outputId": "1f73c5d0-0a2c-4282-ae6f-f134fd345053"
   },
   "outputs": [
    {
     "data": {
      "image/png": "[encoded data removed]",
      "text/plain": [
       "<Figure size 206.852x144.48 with 1 Axes>"
      ]
     },
     "execution_count": 3,
     "metadata": {},
     "output_type": "execute_result"
    }
   ],
   "source": [
    "#Creating the phi+ state\n",
    "#Create a quantum circuit with 2 qubits which are by default in |0> state\n",
    "phi_plus = QuantumCircuit(2)\n",
    "# add a Hadamard gate to the first qubit\n",
    "phi_plus.h(0)  \n",
    "# add a cnot gate to the circuit with first qubit as control qubit and second qubit as target qubit\n",
    "phi_plus.cx(0,1)            \n",
    "phi_plus.draw('mpl')"
   ]
  },
  {
   "cell_type": "code",
   "execution_count": 4,
   "metadata": {
    "colab": {
     "base_uri": "https://localhost:8080/"
    },
    "id": "Bb1QjT-aSfJj",
    "outputId": "93f818ca-e37f-4c67-c6c3-45e3d548aa16"
   },
   "outputs": [
    {
     "name": "stdout",
     "output_type": "stream",
     "text": [
      "[0.70710678+0.j 0.        +0.j 0.        +0.j 0.70710678+0.j]\n"
     ]
    }
   ],
   "source": [
    "backend = Aer.get_backend('statevector_simulator') # Tell Qiskit how to simulate our circuit\n",
    "# Create a Quantum Program for execution. This statement runs the circuit.\n",
    "# the circuit we want to run (phiplus), and the simulator we want to use (backend = statevector simulator). \n",
    "job = execute(phi_plus, backend)\n",
    "# Grab the results from the job.\n",
    "result = job.result()\n",
    "# Display the output state vector, output is an list of amplitudes of the states |00>,|01>,|10>,|11> respectively\n",
    "print(result.get_statevector(phi_plus))  "
   ]
  },
  {
   "cell_type": "markdown",
   "metadata": {
    "id": "xZ66ZOv8VVfr"
   },
   "source": [
    "# Creating the phi-minus state\n",
    "To create the phi-minus state we first take two qubits(both initalized to $|0\\rangle$ ). Then add the following gates\n",
    "\n",
    "- A Hadamard gate H on first qubit, which puts it into the superposition state $(|0\\rangle+|1\\rangle)/\\sqrt{2}$. \n",
    "- A controlled-Not operation (CX) between the two qubits. \n",
    "- A Z gate to the first qubit ."
   ]
  },
  {
   "cell_type": "code",
   "execution_count": 4,
   "metadata": {
    "colab": {
     "base_uri": "https://localhost:8080/",
     "height": 94
    },
    "id": "npW5mzv9VJ85",
    "outputId": "26b5aaa6-79b3-4e4a-a598-a3e1daf2a074"
   },
   "outputs": [
    {
     "data": {
      "image/png": "[encoded data removed]",
      "text/plain": [
       "<Figure size 267.052x144.48 with 1 Axes>"
      ]
     },
     "execution_count": 4,
     "metadata": {},
     "output_type": "execute_result"
    }
   ],
   "source": [
    "#Creating the phi-minus state\n",
    "#Create a quantum circuit with 2 qubits which are by default in 0 state\n",
    "phi_minus = QuantumCircuit(2)\n",
    "# add a Hadamard gate to the first qubit\n",
    "phi_minus.h(0) \n",
    "# add a cnot gate to the circuit with first qubit as control qubit and second qubit as target qubit\n",
    "phi_minus.cx(0,1) \n",
    " # add a Z gate to the first qubit\n",
    "phi_minus.z(0)              \n",
    "phi_minus.draw('mpl')"
   ]
  },
  {
   "cell_type": "code",
   "execution_count": 5,
   "metadata": {
    "colab": {
     "base_uri": "https://localhost:8080/"
    },
    "id": "8Xfhb9w-XSY1",
    "outputId": "6c818d94-30dc-48ef-d96c-7d74db1e1d41"
   },
   "outputs": [
    {
     "name": "stdout",
     "output_type": "stream",
     "text": [
      "[ 0.70710678+0.j -0.        +0.j  0.        +0.j -0.70710678+0.j]\n"
     ]
    }
   ],
   "source": [
    "backend = Aer.get_backend('statevector_simulator') # Tell Qiskit how to simulate our circuit\n",
    "# Create a Quantum Program for execution. This statement runs the circuit.\n",
    "# the circuit we want to run (phiplus), and the simulator we want to use (backend = statevector simulator). \n",
    "job = execute(phi_minus, backend)\n",
    "# Grab the results from the job.\n",
    "result = job.result()\n",
    "# Display the output state vector, output is an list of amplitudes of the states |00>,|01>,|10>,|11> respectively\n",
    "print(result.get_statevector(phi_minus))  "
   ]
  },
  {
   "cell_type": "markdown",
   "metadata": {
    "id": "HYzH3NISYT9C"
   },
   "source": [
    "# Creating the psi-plus state\n",
    "To create the psi state we first take two qubits(both initalized to $|0\\rangle$ ). Then add the following gates\n",
    "- A Hadamard gate H on first qubit, which puts it into the superposition state $(|0\\rangle+|1\\rangle)/\\sqrt{2}$. \n",
    "- A controlled-Not operation (CX) between the two qubits. \n",
    "- A x gate to second qubit."
   ]
  },
  {
   "cell_type": "code",
   "execution_count": 7,
   "metadata": {
    "colab": {
     "base_uri": "https://localhost:8080/",
     "height": 94
    },
    "id": "Clo_frQEXkGH",
    "outputId": "b5f5afb8-1fb1-4709-a174-a7c2ff779647"
   },
   "outputs": [
    {
     "data": {
      "image/png": "[encoded data removed]",
      "text/plain": [
       "<Figure size 267.052x144.48 with 1 Axes>"
      ]
     },
     "execution_count": 7,
     "metadata": {},
     "output_type": "execute_result"
    }
   ],
   "source": [
    "#Creating the phi-minus state\n",
    "#Create a quantum circuit with 2 qubits which are by default in 0 state\n",
    "psi_plus = QuantumCircuit(2)\n",
    "# add a Hadamard gate to the first qubit\n",
    "psi_plus.h(0) \n",
    "# add a cnot gate to the circuit with first qubit as control qubit and second qubit as target qubit\n",
    "psi_plus.cx(0,1)   \n",
    "# add a x gate to the second qubit\n",
    "psi_plus.x(1)               \n",
    "psi_plus.draw('mpl')"
   ]
  },
  {
   "cell_type": "code",
   "execution_count": 8,
   "metadata": {
    "colab": {
     "base_uri": "https://localhost:8080/"
    },
    "id": "gHviYfUNYt7F",
    "outputId": "241c2ca2-8073-4fac-8117-3dda3cfe2cda"
   },
   "outputs": [
    {
     "name": "stdout",
     "output_type": "stream",
     "text": [
      "[0.        +0.j 0.70710678+0.j 0.70710678+0.j 0.        +0.j]\n"
     ]
    }
   ],
   "source": [
    "backend = Aer.get_backend('statevector_simulator') # Tell Qiskit how to simulate our circuit\n",
    "job3 = execute(psi_plus, backend)\n",
    "# Grab the results from the job.\n",
    "result = job3.result()     \n",
    "# Display the output state vector,output is an list of amplitudes of the states |00>,|01>,|10>,|11> respectively\n",
    "print(result.get_statevector(psi_plus))  "
   ]
  },
  {
   "cell_type": "markdown",
   "metadata": {
    "id": "6dOE-3KVaKJ-"
   },
   "source": [
    "#Creating the psi-minus state\n",
    "To create the psi state we first take two qubits(both initalized to $|0\\rangle$ ). Then add the following gates\n",
    "\n",
    "- A Hadamard gate H on first qubit, which puts it into the superposition state $(|0\\rangle+|1\\rangle)/\\sqrt{2}$. \n",
    "- A controlled-Not operation (CX) between two qubits. \n",
    "- A x gate to the first qubit\n",
    "- A z gate to second qubit.\n"
   ]
  },
  {
   "cell_type": "code",
   "execution_count": 5,
   "metadata": {
    "colab": {
     "base_uri": "https://localhost:8080/",
     "height": 94
    },
    "id": "H5FiciMhZAgN",
    "outputId": "506f4cdb-cd02-47ad-bfd3-5736f1ddf4ce"
   },
   "outputs": [
    {
     "data": {
      "image/png": "[encoded data removed]",
      "text/plain": [
       "<Figure size 267.052x144.48 with 1 Axes>"
      ]
     },
     "execution_count": 5,
     "metadata": {},
     "output_type": "execute_result"
    }
   ],
   "source": [
    "#Creating the phi-minus state\n",
    "#Create a quantum circuit with 2 qubits which are by default in 0 state\n",
    "psi_minus = QuantumCircuit(2)\n",
    "# add a Hadamard gate to the first qubit\n",
    "psi_minus.h(0)  \n",
    "# add a cnot gate to the circuit with first qubit as control qubit and second qubit as target qubit\n",
    "psi_minus.cx(0,1) \n",
    "# add a x gate to the first qubit\n",
    "psi_minus.x(0)\n",
    "# add a z gate to the second qubit\n",
    "psi_minus.z(1)               \n",
    "psi_minus.draw('mpl')"
   ]
  },
  {
   "cell_type": "code",
   "execution_count": 9,
   "metadata": {
    "colab": {
     "base_uri": "https://localhost:8080/"
    },
    "id": "PeVjOaJhanvW",
    "outputId": "ff624d04-e30a-4b02-ef37-aed1597d4907"
   },
   "outputs": [
    {
     "name": "stdout",
     "output_type": "stream",
     "text": [
      "[ 0.        +0.j  0.70710678+0.j -0.70710678+0.j -0.        +0.j]\n"
     ]
    }
   ],
   "source": [
    "# Tell Qiskit how to simulate our circuit \n",
    "backend = Aer.get_backend('statevector_simulator') \n",
    "job4 = execute(psi_minus, backend)\n",
    " # Grab the results from the job.\n",
    "result = job4.result()        \n",
    "# Display the output state vector,output is an list of amplitudes of the states |00>,|01>,|10>,|11> respectively\n",
    "print(result.get_statevector(psi_minus))  "
   ]
  }
 ],
 "metadata": {
  "colab": {
   "name": "Bell state creation",
   "provenance": []
  },
  "kernelspec": {
   "display_name": "Python 3",
   "language": "python",
   "name": "python3"
  },
  "language_info": {
   "codemirror_mode": {
    "name": "ipython",
    "version": 3
   },
   "file_extension": ".py",
   "mimetype": "text/x-python",
   "name": "python",
   "nbconvert_exporter": "python",
   "pygments_lexer": "ipython3",
   "version": "3.8.8"
  }
 },
 "nbformat": 4,
 "nbformat_minor": 1
}
