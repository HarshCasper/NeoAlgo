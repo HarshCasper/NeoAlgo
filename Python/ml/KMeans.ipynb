{
  "nbformat": 4,
  "nbformat_minor": 0,
  "metadata": {
    "colab": {
      "name": "KMeans.ipynb",
      "provenance": []
    },
    "kernelspec": {
      "name": "python3",
      "display_name": "Python 3"
    },
    "language_info": {
      "name": "python"
    }
  },
  "cells": [
    {
      "cell_type": "code",
      "metadata": {
        "id": "uEPM9N5zXwdK"
      },
      "source": [
        "import pandas as pd\n",
        "import numpy as np\n",
        "import matplotlib.pyplot as plt\n",
        "%matplotlib inline"
      ],
      "execution_count": 1,
      "outputs": []
    },
    {
      "cell_type": "markdown",
      "metadata": {
        "id": "RwlMFKY1YNdO"
      },
      "source": [
        "## Creating custom data"
      ]
    },
    {
      "cell_type": "code",
      "metadata": {
        "id": "gM1NTRH_YW-Q"
      },
      "source": [
        "df = pd.DataFrame({\n",
        "    'x': [12, 20, 28, 18, 29, 33, 24, 45, 45, 52, 51, 52, 55, 53, 55, 61, 64, 69, 72],\n",
        "    'y': [39, 36, 30, 52, 54, 46, 55, 59, 63, 70, 66, 63, 58, 23, 14, 8, 19, 7, 24]\n",
        "})\n",
        "np.random.seed(200)"
      ],
      "execution_count": 3,
      "outputs": []
    },
    {
      "cell_type": "code",
      "metadata": {
        "id": "DwMFJw-xacJf"
      },
      "source": [
        "# Selecting number of clusters\n",
        "k = 3\n",
        "#centroids[i] = [x, y]\n",
        "# range of our data is between 0 - 80\n",
        "centroids = {\n",
        "    i+1: [np.random.randint(0, 80), np.random.randint(0, 80)]\n",
        "    for i in range(k)\n",
        "}"
      ],
      "execution_count": 4,
      "outputs": []
    },
    {
      "cell_type": "markdown",
      "metadata": {
        "id": "UaePk-H1c8rf"
      },
      "source": [
        "## Visualizing our data"
      ]
    },
    {
      "cell_type": "code",
      "metadata": {
        "colab": {
          "base_uri": "https://localhost:8080/",
          "height": 324
        },
        "id": "E24JpwUnb1Cy",
        "outputId": "3e5302d3-55ea-4d06-da2b-6d14204e6048"
      },
      "source": [
        "fig = plt.figure(figsize=(5,5))\n",
        "plt.scatter(df['x'], df['y'], color='k')\n",
        "colmap = {1: 'r', 2:'g', 3:'b'}\n",
        "for i in centroids.keys():\n",
        "  plt.scatter(*centroids[i], color=colmap[i])\n",
        "plt.xlim(0, 80)\n",
        "plt.ylim(0, 80)\n",
        "plt.show()"
      ],
      "execution_count": 5,
      "outputs": [
        {
          "output_type": "display_data",
          "data": {
            "image/png": "[encoded data removed]",
            "text/plain": [
              "<Figure size 360x360 with 1 Axes>"
            ]
          },
          "metadata": {
            "tags": [],
            "needs_background": "light"
          }
        }
      ]
    },
    {
      "cell_type": "markdown",
      "metadata": {
        "id": "apxqgd4hc5Ay"
      },
      "source": [
        "## Assignment Stage"
      ]
    },
    {
      "cell_type": "code",
      "metadata": {
        "colab": {
          "base_uri": "https://localhost:8080/"
        },
        "id": "NGW0_mD7dJdY",
        "outputId": "21352518-7794-4be2-b0e8-d1b8614daf41"
      },
      "source": [
        "def assignment(df, centroids):\n",
        "  for i in centroids.keys():\n",
        "    #sqrt((x1 - x2)^2 - (y1 - y2)^2) Eucledian distance\n",
        "    df['distance_from_{}'.format(i)] = (\n",
        "        np.sqrt(\n",
        "            (df['x'] - centroids[i][0]) ** 2 +\n",
        "              (df['y'] - centroids[i][1]) ** 2\n",
        "        )\n",
        "    )\n",
        "  centroid_distance_cols = ['distance_from_{}'.format(i) for i in centroids.keys()]\n",
        "  df['closest'] = df.loc[:, centroid_distance_cols].idxmin(axis=1)\n",
        "  df['closest'] = df['closest'].map(lambda x: int(x.lstrip('distance_from_')))\n",
        "  df['color'] =  df['closest'].map(lambda x: colmap[x])\n",
        "  return df\n",
        "\n",
        "df = assignment(df, centroids)\n",
        "print(df.head()) "
      ],
      "execution_count": 6,
      "outputs": [
        {
          "output_type": "stream",
          "text": [
            "    x   y  distance_from_1  distance_from_2  distance_from_3  closest color\n",
            "0  12  39        26.925824        56.080300        56.727418        1     r\n",
            "1  20  36        20.880613        48.373546        53.150729        1     r\n",
            "2  28  30        14.142136        41.761226        53.338541        1     r\n",
            "3  18  52        36.878178        50.990195        44.102154        1     r\n",
            "4  29  54        38.118237        40.804412        34.058773        3     b\n"
          ],
          "name": "stdout"
        }
      ]
    },
    {
      "cell_type": "code",
      "metadata": {
        "colab": {
          "base_uri": "https://localhost:8080/",
          "height": 324
        },
        "id": "Qh2R36IZfjK0",
        "outputId": "c6fb6021-9d38-49ed-d1c9-e538942dd09a"
      },
      "source": [
        "# Visualising computed values\n",
        "fig = plt.figure(figsize=(5,5))\n",
        "plt.scatter(df['x'], df['y'], color=df['color'], alpha=0.5, edgecolor='k')\n",
        "for i in centroids.keys():\n",
        "  plt.scatter(*centroids[i], color=colmap[i])\n",
        "plt.xlim(0, 80)\n",
        "plt.ylim(0, 80)\n",
        "plt.show()"
      ],
      "execution_count": 9,
      "outputs": [
        {
          "output_type": "display_data",
          "data": {
            "image/png": "[encoded data removed]",
            "text/plain": [
              "<Figure size 360x360 with 1 Axes>"
            ]
          },
          "metadata": {
            "tags": [],
            "needs_background": "light"
          }
        }
      ]
    },
    {
      "cell_type": "markdown",
      "metadata": {
        "id": "Ubmne-uif95g"
      },
      "source": [
        "## Update Stage"
      ]
    },
    {
      "cell_type": "code",
      "metadata": {
        "id": "Gexo1l_xgQ2L"
      },
      "source": [
        "import copy\n",
        "\n",
        "old_centroids = copy.deepcopy(centroids)\n",
        "\n",
        "def update(k):\n",
        "  for i in centroids.keys():\n",
        "    centroids[i][0] = np.mean(df[df['closest'] == i]['x'])\n",
        "    centroids[i][1] = np.mean(df[df['closest'] == i]['y'])\n",
        "  return k\n",
        "\n",
        "centroids = update(centroids)"
      ],
      "execution_count": 11,
      "outputs": []
    },
    {
      "cell_type": "markdown",
      "metadata": {
        "id": "KM45BjyniBox"
      },
      "source": [
        "## Visualizing new centroids"
      ]
    },
    {
      "cell_type": "code",
      "metadata": {
        "colab": {
          "base_uri": "https://localhost:8080/",
          "height": 324
        },
        "id": "rNlMO4vigcLo",
        "outputId": "d71fd591-95e8-4964-ac09-de9ae0cc6a32"
      },
      "source": [
        "fig = plt.figure(figsize=(5,5))\n",
        "ax = plt.axes()\n",
        "plt.scatter(df['x'], df['y'], color=df['color'], alpha=0.5, edgecolor='k')\n",
        "for i in centroids.keys():\n",
        "  plt.scatter(*centroids[i], color=colmap[i])\n",
        "plt.xlim(0, 80)\n",
        "plt.ylim(0, 80)\n",
        "for i in old_centroids.keys():\n",
        "  old_x = old_centroids[i][0]\n",
        "  old_y = old_centroids[i][1]\n",
        "  dx = (centroids[i][0] - old_centroids[i][0]) * 0.75\n",
        "  dy = (centroids[i][1] - old_centroids[i][1]) * 0.75\n",
        "  ax.arrow(old_x, old_y, dx, dy, head_width=2, head_length=3, fc=colmap[i], ec=colmap[i])\n",
        "plt.show()"
      ],
      "execution_count": 12,
      "outputs": [
        {
          "output_type": "display_data",
          "data": {
            "image/png": "[encoded data removed]",
            "text/plain": [
              "<Figure size 360x360 with 1 Axes>"
            ]
          },
          "metadata": {
            "tags": [],
            "needs_background": "light"
          }
        }
      ]
    },
    {
      "cell_type": "markdown",
      "metadata": {
        "id": "uyUtm-2Th6l_"
      },
      "source": [
        "## Repeat Assignment Stage"
      ]
    },
    {
      "cell_type": "code",
      "metadata": {
        "colab": {
          "base_uri": "https://localhost:8080/",
          "height": 324
        },
        "id": "2H9rleIdiSVD",
        "outputId": "ff364db6-56e6-4be0-ea5d-b66599d746a7"
      },
      "source": [
        "df = assignment(df, centroids)\n",
        "\n",
        "#Plot Result\n",
        "fig = plt.figure(figsize=(5,5))\n",
        "plt.scatter(df['x'], df['y'], color=df['color'], alpha=0.5, edgecolor='k')\n",
        "for i in centroids.keys():\n",
        "  plt.scatter(*centroids[i], color=colmap[i])\n",
        "plt.xlim(0, 80)\n",
        "plt.ylim(0, 80)\n",
        "plt.show()"
      ],
      "execution_count": 14,
      "outputs": [
        {
          "output_type": "display_data",
          "data": {
            "image/png": "[encoded data removed]",
            "text/plain": [
              "<Figure size 360x360 with 1 Axes>"
            ]
          },
          "metadata": {
            "tags": [],
            "needs_background": "light"
          }
        }
      ]
    },
    {
      "cell_type": "code",
      "metadata": {
        "colab": {
          "base_uri": "https://localhost:8080/",
          "height": 324
        },
        "id": "_05b9dM-iaS-",
        "outputId": "4e92239f-0281-4c76-c3a2-43578cd435d7"
      },
      "source": [
        "# Continue Until all assigned categories don't change anymore\n",
        "while True:\n",
        "  closest_centroids = df['closest'].copy(deep=True)\n",
        "  centroids = update(centroids)\n",
        "  df = assignment(df, centroids)\n",
        "  if closest_centroids.equals(df['closest']):\n",
        "    break\n",
        "\n",
        "fig = plt.figure(figsize=(5,5))\n",
        "plt.scatter(df['x'], df['y'], color=df['color'], alpha=0.5, edgecolor='k')\n",
        "for i in centroids.keys():\n",
        "  plt.scatter(*centroids[i], color=colmap[i])\n",
        "plt.xlim(0, 80)\n",
        "plt.ylim(0, 80)\n",
        "plt.show()"
      ],
      "execution_count": 15,
      "outputs": [
        {
          "output_type": "display_data",
          "data": {
            "image/png": "[encoded data removed]",
            "text/plain": [
              "<Figure size 360x360 with 1 Axes>"
            ]
          },
          "metadata": {
            "tags": [],
            "needs_background": "light"
          }
        }
      ]
    },
    {
      "cell_type": "markdown",
      "metadata": {
        "id": "Dah-msEcjOQ9"
      },
      "source": [
        "## Comparing with predefined Kmeans library"
      ]
    },
    {
      "cell_type": "code",
      "metadata": {
        "colab": {
          "base_uri": "https://localhost:8080/"
        },
        "id": "TwE2RoRqjWT1",
        "outputId": "d9dcfcf5-c60c-428d-8e5d-05ff54702743"
      },
      "source": [
        "df = pd.DataFrame({\n",
        "    'x': [12, 20, 28, 18, 29, 33, 24, 45, 45, 52, 51, 52, 55, 53, 55, 61, 64, 69, 72],\n",
        "    'y': [39, 36, 30, 52, 54, 46, 55, 59, 63, 70, 66, 63, 58, 23, 14, 8, 19, 7, 24]\n",
        "})\n",
        "\n",
        "from sklearn.cluster import KMeans\n",
        "\n",
        "kmeans = KMeans(n_clusters = 3)\n",
        "kmeans.fit(df)"
      ],
      "execution_count": 18,
      "outputs": [
        {
          "output_type": "execute_result",
          "data": {
            "text/plain": [
              "KMeans(algorithm='auto', copy_x=True, init='k-means++', max_iter=300,\n",
              "       n_clusters=3, n_init=10, n_jobs=None, precompute_distances='auto',\n",
              "       random_state=None, tol=0.0001, verbose=0)"
            ]
          },
          "metadata": {
            "tags": []
          },
          "execution_count": 18
        }
      ]
    },
    {
      "cell_type": "code",
      "metadata": {
        "id": "4YrxVeXQja1z"
      },
      "source": [
        "labels = kmeans.predict(df)\n",
        "centroids = kmeans.cluster_centers_"
      ],
      "execution_count": 19,
      "outputs": []
    },
    {
      "cell_type": "code",
      "metadata": {
        "colab": {
          "base_uri": "https://localhost:8080/",
          "height": 324
        },
        "id": "LcmU7PQpj3eN",
        "outputId": "c25bf21a-711f-46c1-aee6-fec89de300f8"
      },
      "source": [
        "fig = plt.figure(figsize=(5,5))\n",
        "\n",
        "colors = map(lambda x: colmap[x+1], labels)\n",
        "colors1 = list(colors)\n",
        "plt.scatter(df['x'], df['y'], color=colors1, alpha=0.5, edgecolor='k')\n",
        "for i, centroid in enumerate(centroids):\n",
        "  plt.scatter(*centroid, color=colmap[i+1])\n",
        "plt.xlim(0, 80)\n",
        "plt.ylim(0, 80)\n",
        "plt.show()"
      ],
      "execution_count": 21,
      "outputs": [
        {
          "output_type": "display_data",
          "data": {
            "image/png": "[encoded data removed]",
            "text/plain": [
              "<Figure size 360x360 with 1 Axes>"
            ]
          },
          "metadata": {
            "tags": [],
            "needs_background": "light"
          }
        }
      ]
    },
    {
      "cell_type": "code",
      "metadata": {
        "id": "N3GIA9TYkTF1"
      },
      "source": [
        ""
      ],
      "execution_count": null,
      "outputs": []
    }
  ]
}