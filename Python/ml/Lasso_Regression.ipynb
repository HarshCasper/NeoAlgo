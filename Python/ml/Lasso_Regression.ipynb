{
 "cells": [
  {
   "cell_type": "markdown",
   "id": "vulnerable-discount",
   "metadata": {},
   "source": [
    "# Building Lasso Regression Algorithm from scratch"
   ]
  },
  {
   "cell_type": "code",
   "execution_count": null,
   "id": "exciting-highway",
   "metadata": {},
   "outputs": [],
   "source": [
    "import numpy as np"
   ]
  },
  {
   "cell_type": "code",
   "execution_count": null,
   "id": "august-error",
   "metadata": {},
   "outputs": [],
   "source": [
    "#creating the Lasso Regression class\n",
    "class LassoRegression() : \n",
    "    \n",
    "    #setting epoch = 1000, learning_rate = 0.01 and lamda = 100 as default values \n",
    "    def __init__( self,epoch = 1000, learning_rate = 0.01, lamda = 100) : \n",
    "        '''\n",
    "        lamda : L1_penality\n",
    "        '''\n",
    "        self.learning_rate = learning_rate \n",
    "        self.epoch = epoch \n",
    "        self.lamda = lamda \n",
    "        \n",
    "       \n",
    "    def fit( self, X, Y ) : \n",
    "        '''\n",
    "        X.shape = (m,n)\n",
    "        Y.shape = (m,)\n",
    "        \n",
    "        where,\n",
    "            m = number of training examples\n",
    "            n = number of features \n",
    "        '''\n",
    "        \n",
    "        self.m, self.n = X.shape\n",
    "        \n",
    "        # Initializing weights\n",
    "        self.a = np.zeros( self.n ) \n",
    "        self.b = 0\n",
    "        self.X = X \n",
    "        self.Y = Y \n",
    "\n",
    "        # calculating gradient descent epoch time       \n",
    "        for i in range( self.epoch ) : \n",
    "            self.updating_weights() \n",
    "            return self\n",
    "            \n",
    "        \n",
    "    def updating_weights( self ) :\n",
    "        '''\n",
    "        updating weights using gradient descent \n",
    "        '''        \n",
    "            \n",
    "        Y_predicted = self.predict( self.X ) \n",
    "        '''\n",
    "        y_predicted.shape = (m,1)\n",
    "        where,\n",
    "        m = number of training examples\n",
    "        '''\n",
    "        # calculating gradients \n",
    "        da = (-2*(self.X.T).dot(self.Y-Y_predicted)+self.lamda*np.sign(self.a))/self.m\n",
    "        db = - 2 * np.sum( self.Y - Y_predicted ) / self.m \n",
    "        \n",
    "        # updating weights \n",
    "        self.a  -= self.learning_rate * (da) \n",
    "        self.b  -= self.learning_rate * (db) \n",
    "        \n",
    "        return self\n",
    "    \n",
    "\n",
    "    def predict( self, X ) : \n",
    "        \n",
    "        return X.dot( self.a ) + self.b \n",
    "    \n",
    "\n",
    " "
   ]
  }
 ],
 "metadata": {
  "kernelspec": {
   "display_name": "Python 3",
   "language": "python",
   "name": "python3"
  },
  "language_info": {
   "codemirror_mode": {
    "name": "ipython",
    "version": 3
   },
   "file_extension": ".py",
   "mimetype": "text/x-python",
   "name": "python",
   "nbconvert_exporter": "python",
   "pygments_lexer": "ipython3",
   "version": "3.8.5"
  }
 },
 "nbformat": 4,
 "nbformat_minor": 5
}
