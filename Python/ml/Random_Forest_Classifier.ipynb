{
  "nbformat": 4,
  "nbformat_minor": 0,
  "metadata": {
    "colab": {
      "name": "Random_Forest_Classifier.ipynb",
      "provenance": [],
      "collapsed_sections": []
    },
    "kernelspec": {
      "name": "python3",
      "display_name": "Python 3"
    },
    "language_info": {
      "name": "python"
    }
  },
  "cells": [
    {
      "cell_type": "markdown",
      "metadata": {
        "id": "9L9DQIiy1DXb"
      },
      "source": [
        "## Random Forest\n",
        "The **Random Forest** is one of the most powerful machine learning algorithms available today. It is a supervised machine learning algorithm that can be used for both classification (predicts a discrete-valued output, i.e. a class) and regression (predicts a continuous-valued output) tasks. \n",
        "\n",
        "In this notebook, I describe how this can be used for a classification task with the popular Iris dataset.\n",
        "\n",
        "Random forest consists of many decision trees. It is kind of forming forest of trees."
      ]
    },
    {
      "cell_type": "markdown",
      "metadata": {
        "id": "z7nRQ3tH2Jcq"
      },
      "source": [
        "### How Random forests work?\n",
        "A random forest consists of a group (an ensemble) of individual decision trees. Therefore, the technique is called **Ensemble Learning**. A large group of uncorrelated decision trees can produce more accurate and stable results than any of individual decision trees.\n",
        "\n",
        "When you train a random forest for a classification task, you actually train a group of decision trees. Then you obtain the predictions of all the individual trees and predict the class that gets the most votes. \n",
        "\n",
        "Although some individual trees produce wrong predictions, many can produce accurate predictions. As a group, they can move towards accurate predictions. This is called the wisdom of the crowd. "
      ]
    },
    {
      "cell_type": "code",
      "metadata": {
        "id": "WnOoxdeZyfhi"
      },
      "source": [
        "#Import necessary modules\n",
        "\n",
        "import numpy as np \n",
        "\n",
        "import pandas as pd \n",
        "\n",
        "import sklearn\n",
        "\n",
        "from sklearn.model_selection import train_test_split\n",
        "\n",
        "from sklearn.ensemble import RandomForestClassifier \n",
        "\n",
        "from sklearn.metrics import accuracy_score \n",
        "\n",
        "from sklearn.datasets import load_iris\n",
        "\n",
        "import sklearn.metrics as metrics"
      ],
      "execution_count": 1,
      "outputs": []
    },
    {
      "cell_type": "markdown",
      "metadata": {
        "id": "g6TvZdEU2vg9"
      },
      "source": [
        "#### Iris Dataset\n",
        "Iris is a family of flower which contains three type of flower called setosa ,versicolor ,virginica .\n",
        "\n",
        "**Problem:**  The problem is that, we have given some features of a flower, and based on these features we have to identify which flower belongs to which category.\n",
        "\n",
        "**Solution:** Know we now this type of problems belong to classification  problems. We can solve this by using supervised machine learning classification algorithm."
      ]
    },
    {
      "cell_type": "code",
      "metadata": {
        "colab": {
          "base_uri": "https://localhost:8080/"
        },
        "id": "kGjSXvp4ysWu",
        "outputId": "2dec707c-a0d7-4ddd-f112-92fd8044166e"
      },
      "source": [
        "#Loading datasets \n",
        "\n",
        "iris_data = load_iris() \n",
        "\n",
        "iris=pd.DataFrame(iris_data.data)\n",
        "\n",
        "#shape of datasets \n",
        "\n",
        "print (\"Dataset Shape: \", iris.shape) \n",
        "\n",
        "#first five sample \n",
        "\n",
        "print (\"Dataset: \",iris.head())  "
      ],
      "execution_count": 2,
      "outputs": [
        {
          "output_type": "stream",
          "text": [
            "Dataset Shape:  (150, 4)\n",
            "Dataset:       0    1    2    3\n",
            "0  5.1  3.5  1.4  0.2\n",
            "1  4.9  3.0  1.4  0.2\n",
            "2  4.7  3.2  1.3  0.2\n",
            "3  4.6  3.1  1.5  0.2\n",
            "4  5.0  3.6  1.4  0.2\n"
          ],
          "name": "stdout"
        }
      ]
    },
    {
      "cell_type": "code",
      "metadata": {
        "colab": {
          "base_uri": "https://localhost:8080/"
        },
        "id": "WjgoXmzAy51g",
        "outputId": "6a6d0229-854a-4a92-835b-63ec1793f369"
      },
      "source": [
        "# printing categories (setosa, versicolor,virginica)\n",
        "\n",
        "print(iris_data.target_names)\n",
        "\n",
        "# printing features of flower \n",
        "\n",
        "print(iris_data.feature_names)"
      ],
      "execution_count": 3,
      "outputs": [
        {
          "output_type": "stream",
          "text": [
            "['setosa' 'versicolor' 'virginica']\n",
            "['sepal length (cm)', 'sepal width (cm)', 'petal length (cm)', 'petal width (cm)']\n"
          ],
          "name": "stdout"
        }
      ]
    },
    {
      "cell_type": "code",
      "metadata": {
        "id": "qCuZEUbYzq23"
      },
      "source": [
        "X = iris.values[:, 0:4] \n",
        "\n",
        "Y = iris_data.target"
      ],
      "execution_count": 4,
      "outputs": []
    },
    {
      "cell_type": "markdown",
      "metadata": {
        "id": "AetSfl5Z3Bpe"
      },
      "source": [
        "We split the datasets into training and testing data. Training data is used to train the model and testing data is used to check the performance of model."
      ]
    },
    {
      "cell_type": "code",
      "metadata": {
        "id": "FG6IVtb1y_ey"
      },
      "source": [
        "# Splitting the dataset into train and test \n",
        "\n",
        "X_train, X_test, y_train, y_test = train_test_split(X, Y, test_size = 0.3, random_state = 100)"
      ],
      "execution_count": 5,
      "outputs": []
    },
    {
      "cell_type": "code",
      "metadata": {
        "colab": {
          "base_uri": "https://localhost:8080/"
        },
        "id": "4H-M2eA5zQi0",
        "outputId": "6ae50035-d93f-4be1-dec6-c2a53e0813a9"
      },
      "source": [
        "#defining random forest classifier \n",
        "\n",
        "clfr= RandomForestClassifier(random_state = 100)\n",
        "\n",
        "# Performing training \n",
        "\n",
        "clfr.fit(X_train, y_train)"
      ],
      "execution_count": 6,
      "outputs": [
        {
          "output_type": "execute_result",
          "data": {
            "text/plain": [
              "RandomForestClassifier(bootstrap=True, ccp_alpha=0.0, class_weight=None,\n",
              "                       criterion='gini', max_depth=None, max_features='auto',\n",
              "                       max_leaf_nodes=None, max_samples=None,\n",
              "                       min_impurity_decrease=0.0, min_impurity_split=None,\n",
              "                       min_samples_leaf=1, min_samples_split=2,\n",
              "                       min_weight_fraction_leaf=0.0, n_estimators=100,\n",
              "                       n_jobs=None, oob_score=False, random_state=100,\n",
              "                       verbose=0, warm_start=False)"
            ]
          },
          "metadata": {
            "tags": []
          },
          "execution_count": 6
        }
      ]
    },
    {
      "cell_type": "code",
      "metadata": {
        "colab": {
          "base_uri": "https://localhost:8080/"
        },
        "id": "Go_VMtpJzSrY",
        "outputId": "07e8f1bb-3391-4983-f487-ff010a5a475f"
      },
      "source": [
        "#making prediction \n",
        "\n",
        "Y_pred=clfr.predict(X_test)\n",
        "\n",
        "Y_pred"
      ],
      "execution_count": 7,
      "outputs": [
        {
          "output_type": "execute_result",
          "data": {
            "text/plain": [
              "array([2, 0, 2, 0, 2, 2, 0, 0, 2, 0, 0, 2, 0, 0, 2, 1, 1, 2, 2, 2, 2, 0,\n",
              "       2, 0, 1, 2, 1, 0, 1, 2, 1, 1, 1, 0, 0, 1, 0, 1, 2, 2, 0, 1, 2, 2,\n",
              "       0])"
            ]
          },
          "metadata": {
            "tags": []
          },
          "execution_count": 7
        }
      ]
    },
    {
      "cell_type": "markdown",
      "metadata": {
        "id": "p_OvNQb23PR7"
      },
      "source": [
        "Now, let's check the accuracy of our model."
      ]
    },
    {
      "cell_type": "code",
      "metadata": {
        "colab": {
          "base_uri": "https://localhost:8080/"
        },
        "id": "b-wPJ98xzVcB",
        "outputId": "447de967-6551-410c-b6c1-3e962291c649"
      },
      "source": [
        "print(\"Accuracy:\",metrics.accuracy_score(y_test, Y_pred))\n",
        "\n",
        "cm = np.array(metrics.confusion_matrix(y_test,Y_pred))\n",
        "\n",
        "cm\n",
        "#pd.crosstab(test['species'], preds, rownames=['Actual Species'], colnames=['Predicted Species'])"
      ],
      "execution_count": 8,
      "outputs": [
        {
          "output_type": "stream",
          "text": [
            "Accuracy: 0.9555555555555556\n"
          ],
          "name": "stdout"
        },
        {
          "output_type": "execute_result",
          "data": {
            "text/plain": [
              "array([[16,  0,  0],\n",
              "       [ 0, 10,  1],\n",
              "       [ 0,  1, 17]])"
            ]
          },
          "metadata": {
            "tags": []
          },
          "execution_count": 8
        }
      ]
    },
    {
      "cell_type": "code",
      "metadata": {
        "colab": {
          "base_uri": "https://localhost:8080/"
        },
        "id": "O1Tz2muQzYMR",
        "outputId": "100ce390-3c7c-4a1e-eca6-a6b776de8814"
      },
      "source": [
        "#making prediction on new data \n",
        "\n",
        "clfr.predict([[3, 5, 4, 2]])        #the predicted label should be Viriginia"
      ],
      "execution_count": 9,
      "outputs": [
        {
          "output_type": "execute_result",
          "data": {
            "text/plain": [
              "array([2])"
            ]
          },
          "metadata": {
            "tags": []
          },
          "execution_count": 9
        }
      ]
    }
  ]
}