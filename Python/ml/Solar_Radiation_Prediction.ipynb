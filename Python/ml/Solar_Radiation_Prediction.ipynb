{
 "cells": [
  {
   "cell_type": "markdown",
   "metadata": {},
   "source": [
    "# SOLAR RADIATION PREDICTION"
   ]
  },
  {
   "cell_type": "markdown",
   "metadata": {},
   "source": [
    "### Link to the dataset: https://www.kaggle.com/dronio/SolarEnergy"
   ]
  },
  {
   "cell_type": "markdown",
   "metadata": {},
   "source": [
    "### Importing Libraries"
   ]
  },
  {
   "cell_type": "code",
   "execution_count": 1,
   "metadata": {},
   "outputs": [],
   "source": [
    "import pandas as pd\n",
    "import numpy as np\n",
    "import matplotlib.pyplot as plt\n",
    "import seaborn as sns\n",
    "sns.set()\n",
    "from sklearn.model_selection import train_test_split\n",
    "from sklearn.linear_model import LinearRegression\n",
    "from sklearn.metrics import r2_score\n",
    "from sklearn import preprocessing\n",
    "import tkinter as tk \n",
    "from matplotlib.backends.backend_tkagg import FigureCanvasTkAgg"
   ]
  },
  {
   "cell_type": "markdown",
   "metadata": {},
   "source": [
    "### Getting our Data"
   ]
  },
  {
   "cell_type": "code",
   "execution_count": 2,
   "metadata": {},
   "outputs": [
    {
     "data": {
      "text/html": [
       "<div>\n",
       "<style scoped>\n",
       "    .dataframe tbody tr th:only-of-type {\n",
       "        vertical-align: middle;\n",
       "    }\n",
       "\n",
       "    .dataframe tbody tr th {\n",
       "        vertical-align: top;\n",
       "    }\n",
       "\n",
       "    .dataframe thead th {\n",
       "        text-align: right;\n",
       "    }\n",
       "</style>\n",
       "<table border=\"1\" class=\"dataframe\">\n",
       "  <thead>\n",
       "    <tr style=\"text-align: right;\">\n",
       "      <th></th>\n",
       "      <th>UNIXTime</th>\n",
       "      <th>Data</th>\n",
       "      <th>Time</th>\n",
       "      <th>Radiation</th>\n",
       "      <th>Temperature</th>\n",
       "      <th>Pressure</th>\n",
       "      <th>Humidity</th>\n",
       "      <th>WindDirection(Degrees)</th>\n",
       "      <th>Speed</th>\n",
       "      <th>TimeSunRise</th>\n",
       "      <th>TimeSunSet</th>\n",
       "    </tr>\n",
       "  </thead>\n",
       "  <tbody>\n",
       "    <tr>\n",
       "      <th>0</th>\n",
       "      <td>1475229326</td>\n",
       "      <td>9/29/2016 12:00:00 AM</td>\n",
       "      <td>23:55:26</td>\n",
       "      <td>1.21</td>\n",
       "      <td>48</td>\n",
       "      <td>30.46</td>\n",
       "      <td>59</td>\n",
       "      <td>177.39</td>\n",
       "      <td>5.62</td>\n",
       "      <td>06:13:00</td>\n",
       "      <td>18:13:00</td>\n",
       "    </tr>\n",
       "    <tr>\n",
       "      <th>1</th>\n",
       "      <td>1475229023</td>\n",
       "      <td>9/29/2016 12:00:00 AM</td>\n",
       "      <td>23:50:23</td>\n",
       "      <td>1.21</td>\n",
       "      <td>48</td>\n",
       "      <td>30.46</td>\n",
       "      <td>58</td>\n",
       "      <td>176.78</td>\n",
       "      <td>3.37</td>\n",
       "      <td>06:13:00</td>\n",
       "      <td>18:13:00</td>\n",
       "    </tr>\n",
       "    <tr>\n",
       "      <th>2</th>\n",
       "      <td>1475228726</td>\n",
       "      <td>9/29/2016 12:00:00 AM</td>\n",
       "      <td>23:45:26</td>\n",
       "      <td>1.23</td>\n",
       "      <td>48</td>\n",
       "      <td>30.46</td>\n",
       "      <td>57</td>\n",
       "      <td>158.75</td>\n",
       "      <td>3.37</td>\n",
       "      <td>06:13:00</td>\n",
       "      <td>18:13:00</td>\n",
       "    </tr>\n",
       "    <tr>\n",
       "      <th>3</th>\n",
       "      <td>1475228421</td>\n",
       "      <td>9/29/2016 12:00:00 AM</td>\n",
       "      <td>23:40:21</td>\n",
       "      <td>1.21</td>\n",
       "      <td>48</td>\n",
       "      <td>30.46</td>\n",
       "      <td>60</td>\n",
       "      <td>137.71</td>\n",
       "      <td>3.37</td>\n",
       "      <td>06:13:00</td>\n",
       "      <td>18:13:00</td>\n",
       "    </tr>\n",
       "    <tr>\n",
       "      <th>4</th>\n",
       "      <td>1475228124</td>\n",
       "      <td>9/29/2016 12:00:00 AM</td>\n",
       "      <td>23:35:24</td>\n",
       "      <td>1.17</td>\n",
       "      <td>48</td>\n",
       "      <td>30.46</td>\n",
       "      <td>62</td>\n",
       "      <td>104.95</td>\n",
       "      <td>5.62</td>\n",
       "      <td>06:13:00</td>\n",
       "      <td>18:13:00</td>\n",
       "    </tr>\n",
       "    <tr>\n",
       "      <th>...</th>\n",
       "      <td>...</td>\n",
       "      <td>...</td>\n",
       "      <td>...</td>\n",
       "      <td>...</td>\n",
       "      <td>...</td>\n",
       "      <td>...</td>\n",
       "      <td>...</td>\n",
       "      <td>...</td>\n",
       "      <td>...</td>\n",
       "      <td>...</td>\n",
       "      <td>...</td>\n",
       "    </tr>\n",
       "    <tr>\n",
       "      <th>32681</th>\n",
       "      <td>1480587604</td>\n",
       "      <td>12/1/2016 12:00:00 AM</td>\n",
       "      <td>00:20:04</td>\n",
       "      <td>1.22</td>\n",
       "      <td>44</td>\n",
       "      <td>30.43</td>\n",
       "      <td>102</td>\n",
       "      <td>145.42</td>\n",
       "      <td>6.75</td>\n",
       "      <td>06:41:00</td>\n",
       "      <td>17:42:00</td>\n",
       "    </tr>\n",
       "    <tr>\n",
       "      <th>32682</th>\n",
       "      <td>1480587301</td>\n",
       "      <td>12/1/2016 12:00:00 AM</td>\n",
       "      <td>00:15:01</td>\n",
       "      <td>1.17</td>\n",
       "      <td>44</td>\n",
       "      <td>30.42</td>\n",
       "      <td>102</td>\n",
       "      <td>117.78</td>\n",
       "      <td>6.75</td>\n",
       "      <td>06:41:00</td>\n",
       "      <td>17:42:00</td>\n",
       "    </tr>\n",
       "    <tr>\n",
       "      <th>32683</th>\n",
       "      <td>1480587001</td>\n",
       "      <td>12/1/2016 12:00:00 AM</td>\n",
       "      <td>00:10:01</td>\n",
       "      <td>1.20</td>\n",
       "      <td>44</td>\n",
       "      <td>30.42</td>\n",
       "      <td>102</td>\n",
       "      <td>145.19</td>\n",
       "      <td>9.00</td>\n",
       "      <td>06:41:00</td>\n",
       "      <td>17:42:00</td>\n",
       "    </tr>\n",
       "    <tr>\n",
       "      <th>32684</th>\n",
       "      <td>1480586702</td>\n",
       "      <td>12/1/2016 12:00:00 AM</td>\n",
       "      <td>00:05:02</td>\n",
       "      <td>1.23</td>\n",
       "      <td>44</td>\n",
       "      <td>30.42</td>\n",
       "      <td>101</td>\n",
       "      <td>164.19</td>\n",
       "      <td>7.87</td>\n",
       "      <td>06:41:00</td>\n",
       "      <td>17:42:00</td>\n",
       "    </tr>\n",
       "    <tr>\n",
       "      <th>32685</th>\n",
       "      <td>1480586402</td>\n",
       "      <td>12/1/2016 12:00:00 AM</td>\n",
       "      <td>00:00:02</td>\n",
       "      <td>1.20</td>\n",
       "      <td>44</td>\n",
       "      <td>30.43</td>\n",
       "      <td>101</td>\n",
       "      <td>83.59</td>\n",
       "      <td>3.37</td>\n",
       "      <td>06:41:00</td>\n",
       "      <td>17:42:00</td>\n",
       "    </tr>\n",
       "  </tbody>\n",
       "</table>\n",
       "<p>32686 rows × 11 columns</p>\n",
       "</div>"
      ],
      "text/plain": [
       "         UNIXTime                   Data      Time  Radiation  Temperature  \\\n",
       "0      1475229326  9/29/2016 12:00:00 AM  23:55:26       1.21           48   \n",
       "1      1475229023  9/29/2016 12:00:00 AM  23:50:23       1.21           48   \n",
       "2      1475228726  9/29/2016 12:00:00 AM  23:45:26       1.23           48   \n",
       "3      1475228421  9/29/2016 12:00:00 AM  23:40:21       1.21           48   \n",
       "4      1475228124  9/29/2016 12:00:00 AM  23:35:24       1.17           48   \n",
       "...           ...                    ...       ...        ...          ...   \n",
       "32681  1480587604  12/1/2016 12:00:00 AM  00:20:04       1.22           44   \n",
       "32682  1480587301  12/1/2016 12:00:00 AM  00:15:01       1.17           44   \n",
       "32683  1480587001  12/1/2016 12:00:00 AM  00:10:01       1.20           44   \n",
       "32684  1480586702  12/1/2016 12:00:00 AM  00:05:02       1.23           44   \n",
       "32685  1480586402  12/1/2016 12:00:00 AM  00:00:02       1.20           44   \n",
       "\n",
       "       Pressure  Humidity  WindDirection(Degrees)  Speed TimeSunRise  \\\n",
       "0         30.46        59                  177.39   5.62    06:13:00   \n",
       "1         30.46        58                  176.78   3.37    06:13:00   \n",
       "2         30.46        57                  158.75   3.37    06:13:00   \n",
       "3         30.46        60                  137.71   3.37    06:13:00   \n",
       "4         30.46        62                  104.95   5.62    06:13:00   \n",
       "...         ...       ...                     ...    ...         ...   \n",
       "32681     30.43       102                  145.42   6.75    06:41:00   \n",
       "32682     30.42       102                  117.78   6.75    06:41:00   \n",
       "32683     30.42       102                  145.19   9.00    06:41:00   \n",
       "32684     30.42       101                  164.19   7.87    06:41:00   \n",
       "32685     30.43       101                   83.59   3.37    06:41:00   \n",
       "\n",
       "      TimeSunSet  \n",
       "0       18:13:00  \n",
       "1       18:13:00  \n",
       "2       18:13:00  \n",
       "3       18:13:00  \n",
       "4       18:13:00  \n",
       "...          ...  \n",
       "32681   17:42:00  \n",
       "32682   17:42:00  \n",
       "32683   17:42:00  \n",
       "32684   17:42:00  \n",
       "32685   17:42:00  \n",
       "\n",
       "[32686 rows x 11 columns]"
      ]
     },
     "execution_count": 2,
     "metadata": {},
     "output_type": "execute_result"
    }
   ],
   "source": [
    "df = pd.read_csv(r'SolarPrediction.csv')\n",
    "df"
   ]
  },
  {
   "cell_type": "code",
   "execution_count": 3,
   "metadata": {},
   "outputs": [
    {
     "data": {
      "text/plain": [
       "UNIXTime                  False\n",
       "Data                      False\n",
       "Time                      False\n",
       "Radiation                 False\n",
       "Temperature               False\n",
       "Pressure                  False\n",
       "Humidity                  False\n",
       "WindDirection(Degrees)    False\n",
       "Speed                     False\n",
       "TimeSunRise               False\n",
       "TimeSunSet                False\n",
       "dtype: bool"
      ]
     },
     "execution_count": 3,
     "metadata": {},
     "output_type": "execute_result"
    }
   ],
   "source": [
    "df.isnull().any() # to see number of missing elements, use df.isnull().sum()"
   ]
  },
  {
   "cell_type": "markdown",
   "metadata": {},
   "source": [
    "### Calculating VIF"
   ]
  },
  {
   "cell_type": "code",
   "execution_count": 4,
   "metadata": {},
   "outputs": [],
   "source": [
    "from statsmodels.stats.outliers_influence import variance_inflation_factor\n",
    "variables = df[['Temperature','Pressure','Humidity','Speed','WindDirection(Degrees)']]\n",
    "vif = pd.DataFrame()\n",
    "vif['VIF'] = [variance_inflation_factor(variables.values, i) for i in range(variables.shape[1])]\n",
    "vif['Features'] = variables.columns"
   ]
  },
  {
   "cell_type": "code",
   "execution_count": 5,
   "metadata": {},
   "outputs": [
    {
     "data": {
      "text/html": [
       "<div>\n",
       "<style scoped>\n",
       "    .dataframe tbody tr th:only-of-type {\n",
       "        vertical-align: middle;\n",
       "    }\n",
       "\n",
       "    .dataframe tbody tr th {\n",
       "        vertical-align: top;\n",
       "    }\n",
       "\n",
       "    .dataframe thead th {\n",
       "        text-align: right;\n",
       "    }\n",
       "</style>\n",
       "<table border=\"1\" class=\"dataframe\">\n",
       "  <thead>\n",
       "    <tr style=\"text-align: right;\">\n",
       "      <th></th>\n",
       "      <th>VIF</th>\n",
       "      <th>Features</th>\n",
       "    </tr>\n",
       "  </thead>\n",
       "  <tbody>\n",
       "    <tr>\n",
       "      <th>0</th>\n",
       "      <td>82.077639</td>\n",
       "      <td>Temperature</td>\n",
       "    </tr>\n",
       "    <tr>\n",
       "      <th>1</th>\n",
       "      <td>129.064887</td>\n",
       "      <td>Pressure</td>\n",
       "    </tr>\n",
       "    <tr>\n",
       "      <th>2</th>\n",
       "      <td>10.731528</td>\n",
       "      <td>Humidity</td>\n",
       "    </tr>\n",
       "    <tr>\n",
       "      <th>3</th>\n",
       "      <td>4.445383</td>\n",
       "      <td>Speed</td>\n",
       "    </tr>\n",
       "    <tr>\n",
       "      <th>4</th>\n",
       "      <td>4.292385</td>\n",
       "      <td>WindDirection(Degrees)</td>\n",
       "    </tr>\n",
       "  </tbody>\n",
       "</table>\n",
       "</div>"
      ],
      "text/plain": [
       "          VIF                Features\n",
       "0   82.077639             Temperature\n",
       "1  129.064887                Pressure\n",
       "2   10.731528                Humidity\n",
       "3    4.445383                   Speed\n",
       "4    4.292385  WindDirection(Degrees)"
      ]
     },
     "execution_count": 5,
     "metadata": {},
     "output_type": "execute_result"
    }
   ],
   "source": [
    "vif\n",
    "# The VIF for Pressure is so high, that it influences Temperature's variance to swell, hence pressure is dropped and VIF\n",
    "# calculated again"
   ]
  },
  {
   "cell_type": "code",
   "execution_count": 6,
   "metadata": {},
   "outputs": [
    {
     "data": {
      "text/html": [
       "<div>\n",
       "<style scoped>\n",
       "    .dataframe tbody tr th:only-of-type {\n",
       "        vertical-align: middle;\n",
       "    }\n",
       "\n",
       "    .dataframe tbody tr th {\n",
       "        vertical-align: top;\n",
       "    }\n",
       "\n",
       "    .dataframe thead th {\n",
       "        text-align: right;\n",
       "    }\n",
       "</style>\n",
       "<table border=\"1\" class=\"dataframe\">\n",
       "  <thead>\n",
       "    <tr style=\"text-align: right;\">\n",
       "      <th></th>\n",
       "      <th>UNIXTime</th>\n",
       "      <th>Data</th>\n",
       "      <th>Time</th>\n",
       "      <th>Radiation</th>\n",
       "      <th>Temperature</th>\n",
       "      <th>Humidity</th>\n",
       "      <th>WindDirection(Degrees)</th>\n",
       "      <th>Speed</th>\n",
       "      <th>TimeSunRise</th>\n",
       "      <th>TimeSunSet</th>\n",
       "    </tr>\n",
       "  </thead>\n",
       "  <tbody>\n",
       "    <tr>\n",
       "      <th>0</th>\n",
       "      <td>1475229326</td>\n",
       "      <td>9/29/2016 12:00:00 AM</td>\n",
       "      <td>23:55:26</td>\n",
       "      <td>1.21</td>\n",
       "      <td>48</td>\n",
       "      <td>59</td>\n",
       "      <td>177.39</td>\n",
       "      <td>5.62</td>\n",
       "      <td>06:13:00</td>\n",
       "      <td>18:13:00</td>\n",
       "    </tr>\n",
       "    <tr>\n",
       "      <th>1</th>\n",
       "      <td>1475229023</td>\n",
       "      <td>9/29/2016 12:00:00 AM</td>\n",
       "      <td>23:50:23</td>\n",
       "      <td>1.21</td>\n",
       "      <td>48</td>\n",
       "      <td>58</td>\n",
       "      <td>176.78</td>\n",
       "      <td>3.37</td>\n",
       "      <td>06:13:00</td>\n",
       "      <td>18:13:00</td>\n",
       "    </tr>\n",
       "    <tr>\n",
       "      <th>2</th>\n",
       "      <td>1475228726</td>\n",
       "      <td>9/29/2016 12:00:00 AM</td>\n",
       "      <td>23:45:26</td>\n",
       "      <td>1.23</td>\n",
       "      <td>48</td>\n",
       "      <td>57</td>\n",
       "      <td>158.75</td>\n",
       "      <td>3.37</td>\n",
       "      <td>06:13:00</td>\n",
       "      <td>18:13:00</td>\n",
       "    </tr>\n",
       "    <tr>\n",
       "      <th>3</th>\n",
       "      <td>1475228421</td>\n",
       "      <td>9/29/2016 12:00:00 AM</td>\n",
       "      <td>23:40:21</td>\n",
       "      <td>1.21</td>\n",
       "      <td>48</td>\n",
       "      <td>60</td>\n",
       "      <td>137.71</td>\n",
       "      <td>3.37</td>\n",
       "      <td>06:13:00</td>\n",
       "      <td>18:13:00</td>\n",
       "    </tr>\n",
       "    <tr>\n",
       "      <th>4</th>\n",
       "      <td>1475228124</td>\n",
       "      <td>9/29/2016 12:00:00 AM</td>\n",
       "      <td>23:35:24</td>\n",
       "      <td>1.17</td>\n",
       "      <td>48</td>\n",
       "      <td>62</td>\n",
       "      <td>104.95</td>\n",
       "      <td>5.62</td>\n",
       "      <td>06:13:00</td>\n",
       "      <td>18:13:00</td>\n",
       "    </tr>\n",
       "    <tr>\n",
       "      <th>...</th>\n",
       "      <td>...</td>\n",
       "      <td>...</td>\n",
       "      <td>...</td>\n",
       "      <td>...</td>\n",
       "      <td>...</td>\n",
       "      <td>...</td>\n",
       "      <td>...</td>\n",
       "      <td>...</td>\n",
       "      <td>...</td>\n",
       "      <td>...</td>\n",
       "    </tr>\n",
       "    <tr>\n",
       "      <th>32681</th>\n",
       "      <td>1480587604</td>\n",
       "      <td>12/1/2016 12:00:00 AM</td>\n",
       "      <td>00:20:04</td>\n",
       "      <td>1.22</td>\n",
       "      <td>44</td>\n",
       "      <td>102</td>\n",
       "      <td>145.42</td>\n",
       "      <td>6.75</td>\n",
       "      <td>06:41:00</td>\n",
       "      <td>17:42:00</td>\n",
       "    </tr>\n",
       "    <tr>\n",
       "      <th>32682</th>\n",
       "      <td>1480587301</td>\n",
       "      <td>12/1/2016 12:00:00 AM</td>\n",
       "      <td>00:15:01</td>\n",
       "      <td>1.17</td>\n",
       "      <td>44</td>\n",
       "      <td>102</td>\n",
       "      <td>117.78</td>\n",
       "      <td>6.75</td>\n",
       "      <td>06:41:00</td>\n",
       "      <td>17:42:00</td>\n",
       "    </tr>\n",
       "    <tr>\n",
       "      <th>32683</th>\n",
       "      <td>1480587001</td>\n",
       "      <td>12/1/2016 12:00:00 AM</td>\n",
       "      <td>00:10:01</td>\n",
       "      <td>1.20</td>\n",
       "      <td>44</td>\n",
       "      <td>102</td>\n",
       "      <td>145.19</td>\n",
       "      <td>9.00</td>\n",
       "      <td>06:41:00</td>\n",
       "      <td>17:42:00</td>\n",
       "    </tr>\n",
       "    <tr>\n",
       "      <th>32684</th>\n",
       "      <td>1480586702</td>\n",
       "      <td>12/1/2016 12:00:00 AM</td>\n",
       "      <td>00:05:02</td>\n",
       "      <td>1.23</td>\n",
       "      <td>44</td>\n",
       "      <td>101</td>\n",
       "      <td>164.19</td>\n",
       "      <td>7.87</td>\n",
       "      <td>06:41:00</td>\n",
       "      <td>17:42:00</td>\n",
       "    </tr>\n",
       "    <tr>\n",
       "      <th>32685</th>\n",
       "      <td>1480586402</td>\n",
       "      <td>12/1/2016 12:00:00 AM</td>\n",
       "      <td>00:00:02</td>\n",
       "      <td>1.20</td>\n",
       "      <td>44</td>\n",
       "      <td>101</td>\n",
       "      <td>83.59</td>\n",
       "      <td>3.37</td>\n",
       "      <td>06:41:00</td>\n",
       "      <td>17:42:00</td>\n",
       "    </tr>\n",
       "  </tbody>\n",
       "</table>\n",
       "<p>32686 rows × 10 columns</p>\n",
       "</div>"
      ],
      "text/plain": [
       "         UNIXTime                   Data      Time  Radiation  Temperature  \\\n",
       "0      1475229326  9/29/2016 12:00:00 AM  23:55:26       1.21           48   \n",
       "1      1475229023  9/29/2016 12:00:00 AM  23:50:23       1.21           48   \n",
       "2      1475228726  9/29/2016 12:00:00 AM  23:45:26       1.23           48   \n",
       "3      1475228421  9/29/2016 12:00:00 AM  23:40:21       1.21           48   \n",
       "4      1475228124  9/29/2016 12:00:00 AM  23:35:24       1.17           48   \n",
       "...           ...                    ...       ...        ...          ...   \n",
       "32681  1480587604  12/1/2016 12:00:00 AM  00:20:04       1.22           44   \n",
       "32682  1480587301  12/1/2016 12:00:00 AM  00:15:01       1.17           44   \n",
       "32683  1480587001  12/1/2016 12:00:00 AM  00:10:01       1.20           44   \n",
       "32684  1480586702  12/1/2016 12:00:00 AM  00:05:02       1.23           44   \n",
       "32685  1480586402  12/1/2016 12:00:00 AM  00:00:02       1.20           44   \n",
       "\n",
       "       Humidity  WindDirection(Degrees)  Speed TimeSunRise TimeSunSet  \n",
       "0            59                  177.39   5.62    06:13:00   18:13:00  \n",
       "1            58                  176.78   3.37    06:13:00   18:13:00  \n",
       "2            57                  158.75   3.37    06:13:00   18:13:00  \n",
       "3            60                  137.71   3.37    06:13:00   18:13:00  \n",
       "4            62                  104.95   5.62    06:13:00   18:13:00  \n",
       "...         ...                     ...    ...         ...        ...  \n",
       "32681       102                  145.42   6.75    06:41:00   17:42:00  \n",
       "32682       102                  117.78   6.75    06:41:00   17:42:00  \n",
       "32683       102                  145.19   9.00    06:41:00   17:42:00  \n",
       "32684       101                  164.19   7.87    06:41:00   17:42:00  \n",
       "32685       101                   83.59   3.37    06:41:00   17:42:00  \n",
       "\n",
       "[32686 rows x 10 columns]"
      ]
     },
     "execution_count": 6,
     "metadata": {},
     "output_type": "execute_result"
    }
   ],
   "source": [
    "df.drop('Pressure', axis=1)"
   ]
  },
  {
   "cell_type": "code",
   "execution_count": 7,
   "metadata": {},
   "outputs": [],
   "source": [
    "variables_1 = df[['Temperature','Humidity','Speed','WindDirection(Degrees)']]\n",
    "vif_1 = pd.DataFrame()\n",
    "vif_1['VIF'] = [variance_inflation_factor(variables_1.values, i) for i in range(variables_1.shape[1])]\n",
    "vif_1['Features'] = variables_1.columns"
   ]
  },
  {
   "cell_type": "code",
   "execution_count": 8,
   "metadata": {},
   "outputs": [
    {
     "data": {
      "text/html": [
       "<div>\n",
       "<style scoped>\n",
       "    .dataframe tbody tr th:only-of-type {\n",
       "        vertical-align: middle;\n",
       "    }\n",
       "\n",
       "    .dataframe tbody tr th {\n",
       "        vertical-align: top;\n",
       "    }\n",
       "\n",
       "    .dataframe thead th {\n",
       "        text-align: right;\n",
       "    }\n",
       "</style>\n",
       "<table border=\"1\" class=\"dataframe\">\n",
       "  <thead>\n",
       "    <tr style=\"text-align: right;\">\n",
       "      <th></th>\n",
       "      <th>VIF</th>\n",
       "      <th>Features</th>\n",
       "    </tr>\n",
       "  </thead>\n",
       "  <tbody>\n",
       "    <tr>\n",
       "      <th>0</th>\n",
       "      <td>11.246320</td>\n",
       "      <td>Temperature</td>\n",
       "    </tr>\n",
       "    <tr>\n",
       "      <th>1</th>\n",
       "      <td>7.372081</td>\n",
       "      <td>Humidity</td>\n",
       "    </tr>\n",
       "    <tr>\n",
       "      <th>2</th>\n",
       "      <td>4.101280</td>\n",
       "      <td>Speed</td>\n",
       "    </tr>\n",
       "    <tr>\n",
       "      <th>3</th>\n",
       "      <td>3.685892</td>\n",
       "      <td>WindDirection(Degrees)</td>\n",
       "    </tr>\n",
       "  </tbody>\n",
       "</table>\n",
       "</div>"
      ],
      "text/plain": [
       "         VIF                Features\n",
       "0  11.246320             Temperature\n",
       "1   7.372081                Humidity\n",
       "2   4.101280                   Speed\n",
       "3   3.685892  WindDirection(Degrees)"
      ]
     },
     "execution_count": 8,
     "metadata": {},
     "output_type": "execute_result"
    }
   ],
   "source": [
    "vif_1\n",
    "\n",
    "# Though the VIF of Temp is still high, this is mainly because of inclusion of humidity since both have atleast some amount\n",
    "# of correlation amongst each other. Also, dropping temp would lead to a deficit of a key factor used to check the radiation.\n",
    "# Hence, we proceed with these four features itself."
   ]
  },
  {
   "cell_type": "markdown",
   "metadata": {},
   "source": [
    "### Data Preprocessing"
   ]
  },
  {
   "cell_type": "code",
   "execution_count": 9,
   "metadata": {},
   "outputs": [
    {
     "data": {
      "text/plain": [
       "array(['UNIXTime', 'Data', 'Time', 'Radiation', 'Temperature', 'Pressure',\n",
       "       'Humidity', 'WindDirection(Degrees)', 'Speed', 'TimeSunRise',\n",
       "       'TimeSunSet'], dtype=object)"
      ]
     },
     "execution_count": 9,
     "metadata": {},
     "output_type": "execute_result"
    }
   ],
   "source": [
    "df.columns.values"
   ]
  },
  {
   "cell_type": "code",
   "execution_count": 10,
   "metadata": {},
   "outputs": [],
   "source": [
    "cols = ['Radiation', 'Temperature', \n",
    "       'Humidity', 'WindDirection(Degrees)', 'Speed', 'Pressure','TimeSunRise',\n",
    "       'TimeSunSet', 'UNIXTime', 'Data', 'Time']"
   ]
  },
  {
   "cell_type": "code",
   "execution_count": 11,
   "metadata": {},
   "outputs": [
    {
     "data": {
      "text/html": [
       "<div>\n",
       "<style scoped>\n",
       "    .dataframe tbody tr th:only-of-type {\n",
       "        vertical-align: middle;\n",
       "    }\n",
       "\n",
       "    .dataframe tbody tr th {\n",
       "        vertical-align: top;\n",
       "    }\n",
       "\n",
       "    .dataframe thead th {\n",
       "        text-align: right;\n",
       "    }\n",
       "</style>\n",
       "<table border=\"1\" class=\"dataframe\">\n",
       "  <thead>\n",
       "    <tr style=\"text-align: right;\">\n",
       "      <th></th>\n",
       "      <th>Radiation</th>\n",
       "      <th>Temperature</th>\n",
       "      <th>Humidity</th>\n",
       "      <th>WindDirection(Degrees)</th>\n",
       "      <th>Speed</th>\n",
       "      <th>Pressure</th>\n",
       "      <th>TimeSunRise</th>\n",
       "      <th>TimeSunSet</th>\n",
       "      <th>UNIXTime</th>\n",
       "      <th>Data</th>\n",
       "      <th>Time</th>\n",
       "    </tr>\n",
       "  </thead>\n",
       "  <tbody>\n",
       "    <tr>\n",
       "      <th>0</th>\n",
       "      <td>1.21</td>\n",
       "      <td>48</td>\n",
       "      <td>59</td>\n",
       "      <td>177.39</td>\n",
       "      <td>5.62</td>\n",
       "      <td>30.46</td>\n",
       "      <td>06:13:00</td>\n",
       "      <td>18:13:00</td>\n",
       "      <td>1475229326</td>\n",
       "      <td>9/29/2016 12:00:00 AM</td>\n",
       "      <td>23:55:26</td>\n",
       "    </tr>\n",
       "    <tr>\n",
       "      <th>1</th>\n",
       "      <td>1.21</td>\n",
       "      <td>48</td>\n",
       "      <td>58</td>\n",
       "      <td>176.78</td>\n",
       "      <td>3.37</td>\n",
       "      <td>30.46</td>\n",
       "      <td>06:13:00</td>\n",
       "      <td>18:13:00</td>\n",
       "      <td>1475229023</td>\n",
       "      <td>9/29/2016 12:00:00 AM</td>\n",
       "      <td>23:50:23</td>\n",
       "    </tr>\n",
       "    <tr>\n",
       "      <th>2</th>\n",
       "      <td>1.23</td>\n",
       "      <td>48</td>\n",
       "      <td>57</td>\n",
       "      <td>158.75</td>\n",
       "      <td>3.37</td>\n",
       "      <td>30.46</td>\n",
       "      <td>06:13:00</td>\n",
       "      <td>18:13:00</td>\n",
       "      <td>1475228726</td>\n",
       "      <td>9/29/2016 12:00:00 AM</td>\n",
       "      <td>23:45:26</td>\n",
       "    </tr>\n",
       "    <tr>\n",
       "      <th>3</th>\n",
       "      <td>1.21</td>\n",
       "      <td>48</td>\n",
       "      <td>60</td>\n",
       "      <td>137.71</td>\n",
       "      <td>3.37</td>\n",
       "      <td>30.46</td>\n",
       "      <td>06:13:00</td>\n",
       "      <td>18:13:00</td>\n",
       "      <td>1475228421</td>\n",
       "      <td>9/29/2016 12:00:00 AM</td>\n",
       "      <td>23:40:21</td>\n",
       "    </tr>\n",
       "    <tr>\n",
       "      <th>4</th>\n",
       "      <td>1.17</td>\n",
       "      <td>48</td>\n",
       "      <td>62</td>\n",
       "      <td>104.95</td>\n",
       "      <td>5.62</td>\n",
       "      <td>30.46</td>\n",
       "      <td>06:13:00</td>\n",
       "      <td>18:13:00</td>\n",
       "      <td>1475228124</td>\n",
       "      <td>9/29/2016 12:00:00 AM</td>\n",
       "      <td>23:35:24</td>\n",
       "    </tr>\n",
       "    <tr>\n",
       "      <th>...</th>\n",
       "      <td>...</td>\n",
       "      <td>...</td>\n",
       "      <td>...</td>\n",
       "      <td>...</td>\n",
       "      <td>...</td>\n",
       "      <td>...</td>\n",
       "      <td>...</td>\n",
       "      <td>...</td>\n",
       "      <td>...</td>\n",
       "      <td>...</td>\n",
       "      <td>...</td>\n",
       "    </tr>\n",
       "    <tr>\n",
       "      <th>32681</th>\n",
       "      <td>1.22</td>\n",
       "      <td>44</td>\n",
       "      <td>102</td>\n",
       "      <td>145.42</td>\n",
       "      <td>6.75</td>\n",
       "      <td>30.43</td>\n",
       "      <td>06:41:00</td>\n",
       "      <td>17:42:00</td>\n",
       "      <td>1480587604</td>\n",
       "      <td>12/1/2016 12:00:00 AM</td>\n",
       "      <td>00:20:04</td>\n",
       "    </tr>\n",
       "    <tr>\n",
       "      <th>32682</th>\n",
       "      <td>1.17</td>\n",
       "      <td>44</td>\n",
       "      <td>102</td>\n",
       "      <td>117.78</td>\n",
       "      <td>6.75</td>\n",
       "      <td>30.42</td>\n",
       "      <td>06:41:00</td>\n",
       "      <td>17:42:00</td>\n",
       "      <td>1480587301</td>\n",
       "      <td>12/1/2016 12:00:00 AM</td>\n",
       "      <td>00:15:01</td>\n",
       "    </tr>\n",
       "    <tr>\n",
       "      <th>32683</th>\n",
       "      <td>1.20</td>\n",
       "      <td>44</td>\n",
       "      <td>102</td>\n",
       "      <td>145.19</td>\n",
       "      <td>9.00</td>\n",
       "      <td>30.42</td>\n",
       "      <td>06:41:00</td>\n",
       "      <td>17:42:00</td>\n",
       "      <td>1480587001</td>\n",
       "      <td>12/1/2016 12:00:00 AM</td>\n",
       "      <td>00:10:01</td>\n",
       "    </tr>\n",
       "    <tr>\n",
       "      <th>32684</th>\n",
       "      <td>1.23</td>\n",
       "      <td>44</td>\n",
       "      <td>101</td>\n",
       "      <td>164.19</td>\n",
       "      <td>7.87</td>\n",
       "      <td>30.42</td>\n",
       "      <td>06:41:00</td>\n",
       "      <td>17:42:00</td>\n",
       "      <td>1480586702</td>\n",
       "      <td>12/1/2016 12:00:00 AM</td>\n",
       "      <td>00:05:02</td>\n",
       "    </tr>\n",
       "    <tr>\n",
       "      <th>32685</th>\n",
       "      <td>1.20</td>\n",
       "      <td>44</td>\n",
       "      <td>101</td>\n",
       "      <td>83.59</td>\n",
       "      <td>3.37</td>\n",
       "      <td>30.43</td>\n",
       "      <td>06:41:00</td>\n",
       "      <td>17:42:00</td>\n",
       "      <td>1480586402</td>\n",
       "      <td>12/1/2016 12:00:00 AM</td>\n",
       "      <td>00:00:02</td>\n",
       "    </tr>\n",
       "  </tbody>\n",
       "</table>\n",
       "<p>32686 rows × 11 columns</p>\n",
       "</div>"
      ],
      "text/plain": [
       "       Radiation  Temperature  Humidity  WindDirection(Degrees)  Speed  \\\n",
       "0           1.21           48        59                  177.39   5.62   \n",
       "1           1.21           48        58                  176.78   3.37   \n",
       "2           1.23           48        57                  158.75   3.37   \n",
       "3           1.21           48        60                  137.71   3.37   \n",
       "4           1.17           48        62                  104.95   5.62   \n",
       "...          ...          ...       ...                     ...    ...   \n",
       "32681       1.22           44       102                  145.42   6.75   \n",
       "32682       1.17           44       102                  117.78   6.75   \n",
       "32683       1.20           44       102                  145.19   9.00   \n",
       "32684       1.23           44       101                  164.19   7.87   \n",
       "32685       1.20           44       101                   83.59   3.37   \n",
       "\n",
       "       Pressure TimeSunRise TimeSunSet    UNIXTime                   Data  \\\n",
       "0         30.46    06:13:00   18:13:00  1475229326  9/29/2016 12:00:00 AM   \n",
       "1         30.46    06:13:00   18:13:00  1475229023  9/29/2016 12:00:00 AM   \n",
       "2         30.46    06:13:00   18:13:00  1475228726  9/29/2016 12:00:00 AM   \n",
       "3         30.46    06:13:00   18:13:00  1475228421  9/29/2016 12:00:00 AM   \n",
       "4         30.46    06:13:00   18:13:00  1475228124  9/29/2016 12:00:00 AM   \n",
       "...         ...         ...        ...         ...                    ...   \n",
       "32681     30.43    06:41:00   17:42:00  1480587604  12/1/2016 12:00:00 AM   \n",
       "32682     30.42    06:41:00   17:42:00  1480587301  12/1/2016 12:00:00 AM   \n",
       "32683     30.42    06:41:00   17:42:00  1480587001  12/1/2016 12:00:00 AM   \n",
       "32684     30.42    06:41:00   17:42:00  1480586702  12/1/2016 12:00:00 AM   \n",
       "32685     30.43    06:41:00   17:42:00  1480586402  12/1/2016 12:00:00 AM   \n",
       "\n",
       "           Time  \n",
       "0      23:55:26  \n",
       "1      23:50:23  \n",
       "2      23:45:26  \n",
       "3      23:40:21  \n",
       "4      23:35:24  \n",
       "...         ...  \n",
       "32681  00:20:04  \n",
       "32682  00:15:01  \n",
       "32683  00:10:01  \n",
       "32684  00:05:02  \n",
       "32685  00:00:02  \n",
       "\n",
       "[32686 rows x 11 columns]"
      ]
     },
     "execution_count": 11,
     "metadata": {},
     "output_type": "execute_result"
    }
   ],
   "source": [
    "data_ready = df[cols] # rearranging columns\n",
    "data_ready"
   ]
  },
  {
   "cell_type": "code",
   "execution_count": 12,
   "metadata": {},
   "outputs": [
    {
     "data": {
      "text/html": [
       "<div>\n",
       "<style scoped>\n",
       "    .dataframe tbody tr th:only-of-type {\n",
       "        vertical-align: middle;\n",
       "    }\n",
       "\n",
       "    .dataframe tbody tr th {\n",
       "        vertical-align: top;\n",
       "    }\n",
       "\n",
       "    .dataframe thead th {\n",
       "        text-align: right;\n",
       "    }\n",
       "</style>\n",
       "<table border=\"1\" class=\"dataframe\">\n",
       "  <thead>\n",
       "    <tr style=\"text-align: right;\">\n",
       "      <th></th>\n",
       "      <th>Radiation</th>\n",
       "      <th>Temperature</th>\n",
       "      <th>Humidity</th>\n",
       "      <th>WindDirection(Degrees)</th>\n",
       "      <th>Speed</th>\n",
       "    </tr>\n",
       "  </thead>\n",
       "  <tbody>\n",
       "    <tr>\n",
       "      <th>0</th>\n",
       "      <td>1.21</td>\n",
       "      <td>48</td>\n",
       "      <td>59</td>\n",
       "      <td>177.39</td>\n",
       "      <td>5.62</td>\n",
       "    </tr>\n",
       "    <tr>\n",
       "      <th>1</th>\n",
       "      <td>1.21</td>\n",
       "      <td>48</td>\n",
       "      <td>58</td>\n",
       "      <td>176.78</td>\n",
       "      <td>3.37</td>\n",
       "    </tr>\n",
       "    <tr>\n",
       "      <th>2</th>\n",
       "      <td>1.23</td>\n",
       "      <td>48</td>\n",
       "      <td>57</td>\n",
       "      <td>158.75</td>\n",
       "      <td>3.37</td>\n",
       "    </tr>\n",
       "    <tr>\n",
       "      <th>3</th>\n",
       "      <td>1.21</td>\n",
       "      <td>48</td>\n",
       "      <td>60</td>\n",
       "      <td>137.71</td>\n",
       "      <td>3.37</td>\n",
       "    </tr>\n",
       "    <tr>\n",
       "      <th>4</th>\n",
       "      <td>1.17</td>\n",
       "      <td>48</td>\n",
       "      <td>62</td>\n",
       "      <td>104.95</td>\n",
       "      <td>5.62</td>\n",
       "    </tr>\n",
       "    <tr>\n",
       "      <th>...</th>\n",
       "      <td>...</td>\n",
       "      <td>...</td>\n",
       "      <td>...</td>\n",
       "      <td>...</td>\n",
       "      <td>...</td>\n",
       "    </tr>\n",
       "    <tr>\n",
       "      <th>32681</th>\n",
       "      <td>1.22</td>\n",
       "      <td>44</td>\n",
       "      <td>102</td>\n",
       "      <td>145.42</td>\n",
       "      <td>6.75</td>\n",
       "    </tr>\n",
       "    <tr>\n",
       "      <th>32682</th>\n",
       "      <td>1.17</td>\n",
       "      <td>44</td>\n",
       "      <td>102</td>\n",
       "      <td>117.78</td>\n",
       "      <td>6.75</td>\n",
       "    </tr>\n",
       "    <tr>\n",
       "      <th>32683</th>\n",
       "      <td>1.20</td>\n",
       "      <td>44</td>\n",
       "      <td>102</td>\n",
       "      <td>145.19</td>\n",
       "      <td>9.00</td>\n",
       "    </tr>\n",
       "    <tr>\n",
       "      <th>32684</th>\n",
       "      <td>1.23</td>\n",
       "      <td>44</td>\n",
       "      <td>101</td>\n",
       "      <td>164.19</td>\n",
       "      <td>7.87</td>\n",
       "    </tr>\n",
       "    <tr>\n",
       "      <th>32685</th>\n",
       "      <td>1.20</td>\n",
       "      <td>44</td>\n",
       "      <td>101</td>\n",
       "      <td>83.59</td>\n",
       "      <td>3.37</td>\n",
       "    </tr>\n",
       "  </tbody>\n",
       "</table>\n",
       "<p>32686 rows × 5 columns</p>\n",
       "</div>"
      ],
      "text/plain": [
       "       Radiation  Temperature  Humidity  WindDirection(Degrees)  Speed\n",
       "0           1.21           48        59                  177.39   5.62\n",
       "1           1.21           48        58                  176.78   3.37\n",
       "2           1.23           48        57                  158.75   3.37\n",
       "3           1.21           48        60                  137.71   3.37\n",
       "4           1.17           48        62                  104.95   5.62\n",
       "...          ...          ...       ...                     ...    ...\n",
       "32681       1.22           44       102                  145.42   6.75\n",
       "32682       1.17           44       102                  117.78   6.75\n",
       "32683       1.20           44       102                  145.19   9.00\n",
       "32684       1.23           44       101                  164.19   7.87\n",
       "32685       1.20           44       101                   83.59   3.37\n",
       "\n",
       "[32686 rows x 5 columns]"
      ]
     },
     "execution_count": 12,
     "metadata": {},
     "output_type": "execute_result"
    }
   ],
   "source": [
    "# dropping columns that are not required according to our analysis\n",
    "data_ready = data_ready.drop(['Pressure','TimeSunRise','TimeSunSet','UNIXTime','Data','Time'], axis=1)\n",
    "data_ready"
   ]
  },
  {
   "cell_type": "markdown",
   "metadata": {},
   "source": [
    "### Splitting for Training and Testing"
   ]
  },
  {
   "cell_type": "code",
   "execution_count": 13,
   "metadata": {},
   "outputs": [
    {
     "data": {
      "text/plain": [
       "array([[-0.50043927, -0.61625306,  0.40761954, -0.17873758],\n",
       "       [-0.50043927, -0.65472966,  0.40028483, -0.82335911],\n",
       "       [-0.50043927, -0.69320626,  0.1834901 , -0.82335911],\n",
       "       [-0.50043927, -0.57777646, -0.06949721, -0.82335911],\n",
       "       [-0.50043927, -0.50082325, -0.46340711, -0.17873758]])"
      ]
     },
     "execution_count": 13,
     "metadata": {},
     "output_type": "execute_result"
    }
   ],
   "source": [
    "data = data_ready.values\n",
    "X, y = data[:,1:], data[:,0]  # splitting and getting the independent attributes, X and dependent attribute y\n",
    "X = preprocessing.StandardScaler().fit_transform(X)\n",
    "X[0:5]"
   ]
  },
  {
   "cell_type": "code",
   "execution_count": 14,
   "metadata": {},
   "outputs": [],
   "source": [
    "X_train, X_test, y_train, y_test = train_test_split(X, y, test_size=0.30, random_state=0)  # splitting in the ratio 70:30"
   ]
  },
  {
   "cell_type": "markdown",
   "metadata": {},
   "source": [
    "### Linear Regression Model"
   ]
  },
  {
   "cell_type": "code",
   "execution_count": 15,
   "metadata": {},
   "outputs": [],
   "source": [
    "model = LinearRegression()"
   ]
  },
  {
   "cell_type": "code",
   "execution_count": 16,
   "metadata": {},
   "outputs": [
    {
     "data": {
      "text/plain": [
       "LinearRegression()"
      ]
     },
     "execution_count": 16,
     "metadata": {},
     "output_type": "execute_result"
    }
   ],
   "source": [
    "model.fit(X_train, y_train)"
   ]
  },
  {
   "cell_type": "markdown",
   "metadata": {},
   "source": [
    "### Making Predictions"
   ]
  },
  {
   "cell_type": "code",
   "execution_count": 17,
   "metadata": {},
   "outputs": [],
   "source": [
    "y_hat = model.predict(X_train)"
   ]
  },
  {
   "cell_type": "code",
   "execution_count": 18,
   "metadata": {},
   "outputs": [
    {
     "name": "stderr",
     "output_type": "stream",
     "text": [
      "C:\\Users\\DELL\\anaconda3\\lib\\site-packages\\seaborn\\distributions.py:2551: FutureWarning: `distplot` is a deprecated function and will be removed in a future version. Please adapt your code to use either `displot` (a figure-level function with similar flexibility) or `histplot` (an axes-level function for histograms).\n",
      "  warnings.warn(msg, FutureWarning)\n"
     ]
    },
    {
     "data": {
      "image/png": "[encoded data removed]",
      "text/plain": [
       "<Figure size 432x288 with 1 Axes>"
      ]
     },
     "metadata": {},
     "output_type": "display_data"
    }
   ],
   "source": [
    "sns.distplot(y_train-y_hat)\n",
    "plt.title('Residuals PDF')\n",
    "plt.show()\n",
    "# further on, when we create the training dataset's summary, we'll use y_train as target and y_hat(i.e., predicted X_train) \n",
    "# would be the Predictions\n",
    "\n",
    "# The residuals are normally distributed."
   ]
  },
  {
   "cell_type": "code",
   "execution_count": 19,
   "metadata": {},
   "outputs": [
    {
     "data": {
      "text/plain": [
       "206.87895083047556"
      ]
     },
     "execution_count": 19,
     "metadata": {},
     "output_type": "execute_result"
    }
   ],
   "source": [
    "model.intercept_"
   ]
  },
  {
   "cell_type": "code",
   "execution_count": 20,
   "metadata": {},
   "outputs": [
    {
     "data": {
      "text/plain": [
       "array([ 2.30634392e+02,  6.22531457e-02, -1.46045072e+01,  3.18182571e+01])"
      ]
     },
     "execution_count": 20,
     "metadata": {},
     "output_type": "execute_result"
    }
   ],
   "source": [
    "model.coef_"
   ]
  },
  {
   "cell_type": "code",
   "execution_count": 21,
   "metadata": {},
   "outputs": [],
   "source": [
    "y_pred = model.predict(X_test) # making predictions"
   ]
  },
  {
   "cell_type": "code",
   "execution_count": 22,
   "metadata": {},
   "outputs": [
    {
     "data": {
      "text/plain": [
       "numpy.ndarray"
      ]
     },
     "execution_count": 22,
     "metadata": {},
     "output_type": "execute_result"
    }
   ],
   "source": [
    "type(X)"
   ]
  },
  {
   "cell_type": "code",
   "execution_count": 23,
   "metadata": {},
   "outputs": [],
   "source": [
    "X_new = pd.DataFrame(X)"
   ]
  },
  {
   "cell_type": "code",
   "execution_count": 24,
   "metadata": {},
   "outputs": [
    {
     "data": {
      "text/plain": [
       "pandas.core.frame.DataFrame"
      ]
     },
     "execution_count": 24,
     "metadata": {},
     "output_type": "execute_result"
    }
   ],
   "source": [
    "type(X_new)"
   ]
  },
  {
   "cell_type": "code",
   "execution_count": 25,
   "metadata": {},
   "outputs": [],
   "source": [
    "X_new_renamed = X_new.rename(columns={0:'Temparature',1:'Humidity',2:'WindDirection(Degrees)',3:'Speed'})"
   ]
  },
  {
   "cell_type": "code",
   "execution_count": 26,
   "metadata": {},
   "outputs": [
    {
     "data": {
      "text/html": [
       "<div>\n",
       "<style scoped>\n",
       "    .dataframe tbody tr th:only-of-type {\n",
       "        vertical-align: middle;\n",
       "    }\n",
       "\n",
       "    .dataframe tbody tr th {\n",
       "        vertical-align: top;\n",
       "    }\n",
       "\n",
       "    .dataframe thead th {\n",
       "        text-align: right;\n",
       "    }\n",
       "</style>\n",
       "<table border=\"1\" class=\"dataframe\">\n",
       "  <thead>\n",
       "    <tr style=\"text-align: right;\">\n",
       "      <th></th>\n",
       "      <th>Temparature</th>\n",
       "      <th>Humidity</th>\n",
       "      <th>WindDirection(Degrees)</th>\n",
       "      <th>Speed</th>\n",
       "    </tr>\n",
       "  </thead>\n",
       "  <tbody>\n",
       "    <tr>\n",
       "      <th>0</th>\n",
       "      <td>-0.500439</td>\n",
       "      <td>-0.616253</td>\n",
       "      <td>0.407620</td>\n",
       "      <td>-0.178738</td>\n",
       "    </tr>\n",
       "    <tr>\n",
       "      <th>1</th>\n",
       "      <td>-0.500439</td>\n",
       "      <td>-0.654730</td>\n",
       "      <td>0.400285</td>\n",
       "      <td>-0.823359</td>\n",
       "    </tr>\n",
       "    <tr>\n",
       "      <th>2</th>\n",
       "      <td>-0.500439</td>\n",
       "      <td>-0.693206</td>\n",
       "      <td>0.183490</td>\n",
       "      <td>-0.823359</td>\n",
       "    </tr>\n",
       "    <tr>\n",
       "      <th>3</th>\n",
       "      <td>-0.500439</td>\n",
       "      <td>-0.577776</td>\n",
       "      <td>-0.069497</td>\n",
       "      <td>-0.823359</td>\n",
       "    </tr>\n",
       "    <tr>\n",
       "      <th>4</th>\n",
       "      <td>-0.500439</td>\n",
       "      <td>-0.500823</td>\n",
       "      <td>-0.463407</td>\n",
       "      <td>-0.178738</td>\n",
       "    </tr>\n",
       "    <tr>\n",
       "      <th>...</th>\n",
       "      <td>...</td>\n",
       "      <td>...</td>\n",
       "      <td>...</td>\n",
       "      <td>...</td>\n",
       "    </tr>\n",
       "    <tr>\n",
       "      <th>32681</th>\n",
       "      <td>-1.145490</td>\n",
       "      <td>1.038241</td>\n",
       "      <td>0.023209</td>\n",
       "      <td>0.145006</td>\n",
       "    </tr>\n",
       "    <tr>\n",
       "      <th>32682</th>\n",
       "      <td>-1.145490</td>\n",
       "      <td>1.038241</td>\n",
       "      <td>-0.309138</td>\n",
       "      <td>0.145006</td>\n",
       "    </tr>\n",
       "    <tr>\n",
       "      <th>32683</th>\n",
       "      <td>-1.145490</td>\n",
       "      <td>1.038241</td>\n",
       "      <td>0.020443</td>\n",
       "      <td>0.789627</td>\n",
       "    </tr>\n",
       "    <tr>\n",
       "      <th>32684</th>\n",
       "      <td>-1.145490</td>\n",
       "      <td>0.999764</td>\n",
       "      <td>0.248901</td>\n",
       "      <td>0.465884</td>\n",
       "    </tr>\n",
       "    <tr>\n",
       "      <th>32685</th>\n",
       "      <td>-1.145490</td>\n",
       "      <td>0.999764</td>\n",
       "      <td>-0.720242</td>\n",
       "      <td>-0.823359</td>\n",
       "    </tr>\n",
       "  </tbody>\n",
       "</table>\n",
       "<p>32686 rows × 4 columns</p>\n",
       "</div>"
      ],
      "text/plain": [
       "       Temparature  Humidity  WindDirection(Degrees)     Speed\n",
       "0        -0.500439 -0.616253                0.407620 -0.178738\n",
       "1        -0.500439 -0.654730                0.400285 -0.823359\n",
       "2        -0.500439 -0.693206                0.183490 -0.823359\n",
       "3        -0.500439 -0.577776               -0.069497 -0.823359\n",
       "4        -0.500439 -0.500823               -0.463407 -0.178738\n",
       "...            ...       ...                     ...       ...\n",
       "32681    -1.145490  1.038241                0.023209  0.145006\n",
       "32682    -1.145490  1.038241               -0.309138  0.145006\n",
       "32683    -1.145490  1.038241                0.020443  0.789627\n",
       "32684    -1.145490  0.999764                0.248901  0.465884\n",
       "32685    -1.145490  0.999764               -0.720242 -0.823359\n",
       "\n",
       "[32686 rows x 4 columns]"
      ]
     },
     "execution_count": 26,
     "metadata": {},
     "output_type": "execute_result"
    }
   ],
   "source": [
    "X_new_renamed"
   ]
  },
  {
   "cell_type": "markdown",
   "metadata": {},
   "source": [
    "### Model Summary"
   ]
  },
  {
   "cell_type": "code",
   "execution_count": 27,
   "metadata": {},
   "outputs": [],
   "source": [
    "reg_summary = pd.DataFrame(X_new_renamed.columns.values, columns=['Features'])\n",
    "reg_summary['Weights/Coeffs'] = model.coef_"
   ]
  },
  {
   "cell_type": "code",
   "execution_count": 28,
   "metadata": {},
   "outputs": [
    {
     "data": {
      "text/html": [
       "<div>\n",
       "<style scoped>\n",
       "    .dataframe tbody tr th:only-of-type {\n",
       "        vertical-align: middle;\n",
       "    }\n",
       "\n",
       "    .dataframe tbody tr th {\n",
       "        vertical-align: top;\n",
       "    }\n",
       "\n",
       "    .dataframe thead th {\n",
       "        text-align: right;\n",
       "    }\n",
       "</style>\n",
       "<table border=\"1\" class=\"dataframe\">\n",
       "  <thead>\n",
       "    <tr style=\"text-align: right;\">\n",
       "      <th></th>\n",
       "      <th>Features</th>\n",
       "      <th>Weights/Coeffs</th>\n",
       "    </tr>\n",
       "  </thead>\n",
       "  <tbody>\n",
       "    <tr>\n",
       "      <th>0</th>\n",
       "      <td>Temparature</td>\n",
       "      <td>230.634392</td>\n",
       "    </tr>\n",
       "    <tr>\n",
       "      <th>1</th>\n",
       "      <td>Humidity</td>\n",
       "      <td>0.062253</td>\n",
       "    </tr>\n",
       "    <tr>\n",
       "      <th>2</th>\n",
       "      <td>WindDirection(Degrees)</td>\n",
       "      <td>-14.604507</td>\n",
       "    </tr>\n",
       "    <tr>\n",
       "      <th>3</th>\n",
       "      <td>Speed</td>\n",
       "      <td>31.818257</td>\n",
       "    </tr>\n",
       "  </tbody>\n",
       "</table>\n",
       "</div>"
      ],
      "text/plain": [
       "                 Features  Weights/Coeffs\n",
       "0             Temparature      230.634392\n",
       "1                Humidity        0.062253\n",
       "2  WindDirection(Degrees)      -14.604507\n",
       "3                   Speed       31.818257"
      ]
     },
     "execution_count": 28,
     "metadata": {},
     "output_type": "execute_result"
    }
   ],
   "source": [
    "reg_summary"
   ]
  },
  {
   "cell_type": "code",
   "execution_count": 29,
   "metadata": {},
   "outputs": [],
   "source": [
    "new_row = {'Features':'Slope Intercept', 'Weights/Coeffs':model.intercept_}"
   ]
  },
  {
   "cell_type": "code",
   "execution_count": 30,
   "metadata": {},
   "outputs": [
    {
     "data": {
      "text/html": [
       "<div>\n",
       "<style scoped>\n",
       "    .dataframe tbody tr th:only-of-type {\n",
       "        vertical-align: middle;\n",
       "    }\n",
       "\n",
       "    .dataframe tbody tr th {\n",
       "        vertical-align: top;\n",
       "    }\n",
       "\n",
       "    .dataframe thead th {\n",
       "        text-align: right;\n",
       "    }\n",
       "</style>\n",
       "<table border=\"1\" class=\"dataframe\">\n",
       "  <thead>\n",
       "    <tr style=\"text-align: right;\">\n",
       "      <th></th>\n",
       "      <th>Features</th>\n",
       "      <th>Weights/Coeffs</th>\n",
       "    </tr>\n",
       "  </thead>\n",
       "  <tbody>\n",
       "    <tr>\n",
       "      <th>0</th>\n",
       "      <td>Temparature</td>\n",
       "      <td>230.634392</td>\n",
       "    </tr>\n",
       "    <tr>\n",
       "      <th>1</th>\n",
       "      <td>Humidity</td>\n",
       "      <td>0.062253</td>\n",
       "    </tr>\n",
       "    <tr>\n",
       "      <th>2</th>\n",
       "      <td>WindDirection(Degrees)</td>\n",
       "      <td>-14.604507</td>\n",
       "    </tr>\n",
       "    <tr>\n",
       "      <th>3</th>\n",
       "      <td>Speed</td>\n",
       "      <td>31.818257</td>\n",
       "    </tr>\n",
       "    <tr>\n",
       "      <th>4</th>\n",
       "      <td>Slope Intercept</td>\n",
       "      <td>206.878951</td>\n",
       "    </tr>\n",
       "  </tbody>\n",
       "</table>\n",
       "</div>"
      ],
      "text/plain": [
       "                 Features  Weights/Coeffs\n",
       "0             Temparature      230.634392\n",
       "1                Humidity        0.062253\n",
       "2  WindDirection(Degrees)      -14.604507\n",
       "3                   Speed       31.818257\n",
       "4         Slope Intercept      206.878951"
      ]
     },
     "execution_count": 30,
     "metadata": {},
     "output_type": "execute_result"
    }
   ],
   "source": [
    "reg_summary.append(new_row, ignore_index=True)"
   ]
  },
  {
   "cell_type": "markdown",
   "metadata": {},
   "source": [
    "### The Table showing coefficients of the regression equation."
   ]
  },
  {
   "cell_type": "code",
   "execution_count": 31,
   "metadata": {},
   "outputs": [
    {
     "data": {
      "text/html": [
       "<div>\n",
       "<style scoped>\n",
       "    .dataframe tbody tr th:only-of-type {\n",
       "        vertical-align: middle;\n",
       "    }\n",
       "\n",
       "    .dataframe tbody tr th {\n",
       "        vertical-align: top;\n",
       "    }\n",
       "\n",
       "    .dataframe thead th {\n",
       "        text-align: right;\n",
       "    }\n",
       "</style>\n",
       "<table border=\"1\" class=\"dataframe\">\n",
       "  <thead>\n",
       "    <tr style=\"text-align: right;\">\n",
       "      <th></th>\n",
       "      <th>Features</th>\n",
       "      <th>Weights/Coeffs</th>\n",
       "    </tr>\n",
       "  </thead>\n",
       "  <tbody>\n",
       "    <tr>\n",
       "      <th>0</th>\n",
       "      <td>Temparature</td>\n",
       "      <td>230.634392</td>\n",
       "    </tr>\n",
       "    <tr>\n",
       "      <th>1</th>\n",
       "      <td>Humidity</td>\n",
       "      <td>0.062253</td>\n",
       "    </tr>\n",
       "    <tr>\n",
       "      <th>2</th>\n",
       "      <td>WindDirection(Degrees)</td>\n",
       "      <td>-14.604507</td>\n",
       "    </tr>\n",
       "    <tr>\n",
       "      <th>3</th>\n",
       "      <td>Speed</td>\n",
       "      <td>31.818257</td>\n",
       "    </tr>\n",
       "  </tbody>\n",
       "</table>\n",
       "</div>"
      ],
      "text/plain": [
       "                 Features  Weights/Coeffs\n",
       "0             Temparature      230.634392\n",
       "1                Humidity        0.062253\n",
       "2  WindDirection(Degrees)      -14.604507\n",
       "3                   Speed       31.818257"
      ]
     },
     "execution_count": 31,
     "metadata": {},
     "output_type": "execute_result"
    }
   ],
   "source": [
    "reg_summary"
   ]
  },
  {
   "cell_type": "markdown",
   "metadata": {},
   "source": [
    "### R Squared"
   ]
  },
  {
   "cell_type": "code",
   "execution_count": 32,
   "metadata": {},
   "outputs": [
    {
     "data": {
      "text/plain": [
       "0.5453853232892336"
      ]
     },
     "execution_count": 32,
     "metadata": {},
     "output_type": "execute_result"
    }
   ],
   "source": [
    "r2_score(y_test, y_pred)"
   ]
  },
  {
   "cell_type": "code",
   "execution_count": 33,
   "metadata": {},
   "outputs": [],
   "source": [
    "y_hat_test = model.predict(X_test)"
   ]
  },
  {
   "cell_type": "markdown",
   "metadata": {},
   "source": [
    "### Visualizing Accuracy"
   ]
  },
  {
   "cell_type": "code",
   "execution_count": 34,
   "metadata": {},
   "outputs": [
    {
     "data": {
      "image/png": "[encoded data removed]",
      "text/plain": [
       "<Figure size 432x288 with 1 Axes>"
      ]
     },
     "metadata": {},
     "output_type": "display_data"
    }
   ],
   "source": [
    "plt.scatter(y_test,y_hat_test, alpha=0.05)\n",
    "plt.xlabel('y_test',fontsize=15)\n",
    "plt.ylabel('Y_hat_test', fontsize=15)   #This is X_test predicted\n",
    "plt.title('Testing the Accuracy', fontsize=20)\n",
    "plt.show()\n",
    "\n",
    "# when we create the testing dataset summary, we will use y_test as target and y_hat_test(which actually is X_test predicted)\n",
    "# as predictions, and then compute further residuals and differences.\n",
    "\n",
    "# The alpha uses the blurring concept to show where the maximum points are concentrated and we see they are evenly spread\n",
    "# after being concentrated initially, and a straight line can be fit."
   ]
  },
  {
   "cell_type": "markdown",
   "metadata": {},
   "source": [
    "### Testing Dataset"
   ]
  },
  {
   "cell_type": "code",
   "execution_count": 35,
   "metadata": {},
   "outputs": [],
   "source": [
    "df_pf = pd.DataFrame(y_hat_test, columns=['Predictions'])"
   ]
  },
  {
   "cell_type": "code",
   "execution_count": 36,
   "metadata": {},
   "outputs": [],
   "source": [
    "df_pf['Target'] = y_test"
   ]
  },
  {
   "cell_type": "code",
   "execution_count": 37,
   "metadata": {},
   "outputs": [
    {
     "data": {
      "text/plain": [
       "array([477.77, 399.87, 910.28, ...,   1.26,   1.22,   1.21])"
      ]
     },
     "execution_count": 37,
     "metadata": {},
     "output_type": "execute_result"
    }
   ],
   "source": [
    "y_test"
   ]
  },
  {
   "cell_type": "code",
   "execution_count": 38,
   "metadata": {},
   "outputs": [
    {
     "data": {
      "text/html": [
       "<div>\n",
       "<style scoped>\n",
       "    .dataframe tbody tr th:only-of-type {\n",
       "        vertical-align: middle;\n",
       "    }\n",
       "\n",
       "    .dataframe tbody tr th {\n",
       "        vertical-align: top;\n",
       "    }\n",
       "\n",
       "    .dataframe thead th {\n",
       "        text-align: right;\n",
       "    }\n",
       "</style>\n",
       "<table border=\"1\" class=\"dataframe\">\n",
       "  <thead>\n",
       "    <tr style=\"text-align: right;\">\n",
       "      <th></th>\n",
       "      <th>Predictions</th>\n",
       "      <th>Target</th>\n",
       "    </tr>\n",
       "  </thead>\n",
       "  <tbody>\n",
       "    <tr>\n",
       "      <th>0</th>\n",
       "      <td>570.445581</td>\n",
       "      <td>477.77</td>\n",
       "    </tr>\n",
       "    <tr>\n",
       "      <th>1</th>\n",
       "      <td>189.396667</td>\n",
       "      <td>399.87</td>\n",
       "    </tr>\n",
       "    <tr>\n",
       "      <th>2</th>\n",
       "      <td>640.369699</td>\n",
       "      <td>910.28</td>\n",
       "    </tr>\n",
       "    <tr>\n",
       "      <th>3</th>\n",
       "      <td>-45.855011</td>\n",
       "      <td>1.22</td>\n",
       "    </tr>\n",
       "    <tr>\n",
       "      <th>4</th>\n",
       "      <td>142.607513</td>\n",
       "      <td>1.27</td>\n",
       "    </tr>\n",
       "    <tr>\n",
       "      <th>...</th>\n",
       "      <td>...</td>\n",
       "      <td>...</td>\n",
       "    </tr>\n",
       "    <tr>\n",
       "      <th>9801</th>\n",
       "      <td>665.419436</td>\n",
       "      <td>828.96</td>\n",
       "    </tr>\n",
       "    <tr>\n",
       "      <th>9802</th>\n",
       "      <td>70.462927</td>\n",
       "      <td>1.26</td>\n",
       "    </tr>\n",
       "    <tr>\n",
       "      <th>9803</th>\n",
       "      <td>174.809098</td>\n",
       "      <td>1.26</td>\n",
       "    </tr>\n",
       "    <tr>\n",
       "      <th>9804</th>\n",
       "      <td>61.865196</td>\n",
       "      <td>1.22</td>\n",
       "    </tr>\n",
       "    <tr>\n",
       "      <th>9805</th>\n",
       "      <td>89.674284</td>\n",
       "      <td>1.21</td>\n",
       "    </tr>\n",
       "  </tbody>\n",
       "</table>\n",
       "<p>9806 rows × 2 columns</p>\n",
       "</div>"
      ],
      "text/plain": [
       "      Predictions  Target\n",
       "0      570.445581  477.77\n",
       "1      189.396667  399.87\n",
       "2      640.369699  910.28\n",
       "3      -45.855011    1.22\n",
       "4      142.607513    1.27\n",
       "...           ...     ...\n",
       "9801   665.419436  828.96\n",
       "9802    70.462927    1.26\n",
       "9803   174.809098    1.26\n",
       "9804    61.865196    1.22\n",
       "9805    89.674284    1.21\n",
       "\n",
       "[9806 rows x 2 columns]"
      ]
     },
     "execution_count": 38,
     "metadata": {},
     "output_type": "execute_result"
    }
   ],
   "source": [
    "df_pf"
   ]
  },
  {
   "cell_type": "code",
   "execution_count": 39,
   "metadata": {},
   "outputs": [],
   "source": [
    "df_pf['Residuals'] = df_pf['Predictions'] - df_pf['Target']"
   ]
  },
  {
   "cell_type": "code",
   "execution_count": 40,
   "metadata": {},
   "outputs": [],
   "source": [
    "df_pf['Difference%'] = np.absolute(df_pf['Residuals']/df_pf['Target']*100)"
   ]
  },
  {
   "cell_type": "code",
   "execution_count": 41,
   "metadata": {},
   "outputs": [
    {
     "data": {
      "text/html": [
       "<div>\n",
       "<style scoped>\n",
       "    .dataframe tbody tr th:only-of-type {\n",
       "        vertical-align: middle;\n",
       "    }\n",
       "\n",
       "    .dataframe tbody tr th {\n",
       "        vertical-align: top;\n",
       "    }\n",
       "\n",
       "    .dataframe thead th {\n",
       "        text-align: right;\n",
       "    }\n",
       "</style>\n",
       "<table border=\"1\" class=\"dataframe\">\n",
       "  <thead>\n",
       "    <tr style=\"text-align: right;\">\n",
       "      <th></th>\n",
       "      <th>Predictions</th>\n",
       "      <th>Target</th>\n",
       "      <th>Residuals</th>\n",
       "      <th>Difference%</th>\n",
       "    </tr>\n",
       "  </thead>\n",
       "  <tbody>\n",
       "    <tr>\n",
       "      <th>9061</th>\n",
       "      <td>365.848053</td>\n",
       "      <td>365.83</td>\n",
       "      <td>0.018053</td>\n",
       "      <td>0.004935</td>\n",
       "    </tr>\n",
       "    <tr>\n",
       "      <th>7277</th>\n",
       "      <td>513.961753</td>\n",
       "      <td>513.80</td>\n",
       "      <td>0.161753</td>\n",
       "      <td>0.031482</td>\n",
       "    </tr>\n",
       "    <tr>\n",
       "      <th>940</th>\n",
       "      <td>335.181570</td>\n",
       "      <td>334.75</td>\n",
       "      <td>0.431570</td>\n",
       "      <td>0.128923</td>\n",
       "    </tr>\n",
       "    <tr>\n",
       "      <th>7608</th>\n",
       "      <td>186.764487</td>\n",
       "      <td>187.09</td>\n",
       "      <td>-0.325513</td>\n",
       "      <td>0.173988</td>\n",
       "    </tr>\n",
       "    <tr>\n",
       "      <th>7222</th>\n",
       "      <td>718.165862</td>\n",
       "      <td>719.54</td>\n",
       "      <td>-1.374138</td>\n",
       "      <td>0.190975</td>\n",
       "    </tr>\n",
       "    <tr>\n",
       "      <th>...</th>\n",
       "      <td>...</td>\n",
       "      <td>...</td>\n",
       "      <td>...</td>\n",
       "      <td>...</td>\n",
       "    </tr>\n",
       "    <tr>\n",
       "      <th>4843</th>\n",
       "      <td>443.280330</td>\n",
       "      <td>1.23</td>\n",
       "      <td>442.050330</td>\n",
       "      <td>35939.051236</td>\n",
       "    </tr>\n",
       "    <tr>\n",
       "      <th>8175</th>\n",
       "      <td>461.325421</td>\n",
       "      <td>1.22</td>\n",
       "      <td>460.105421</td>\n",
       "      <td>37713.559114</td>\n",
       "    </tr>\n",
       "    <tr>\n",
       "      <th>4957</th>\n",
       "      <td>465.914488</td>\n",
       "      <td>1.21</td>\n",
       "      <td>464.704488</td>\n",
       "      <td>38405.329567</td>\n",
       "    </tr>\n",
       "    <tr>\n",
       "      <th>433</th>\n",
       "      <td>470.159054</td>\n",
       "      <td>1.22</td>\n",
       "      <td>468.939054</td>\n",
       "      <td>38437.627338</td>\n",
       "    </tr>\n",
       "    <tr>\n",
       "      <th>992</th>\n",
       "      <td>-474.180416</td>\n",
       "      <td>1.21</td>\n",
       "      <td>-475.390416</td>\n",
       "      <td>39288.464137</td>\n",
       "    </tr>\n",
       "  </tbody>\n",
       "</table>\n",
       "<p>9806 rows × 4 columns</p>\n",
       "</div>"
      ],
      "text/plain": [
       "      Predictions  Target   Residuals   Difference%\n",
       "9061   365.848053  365.83    0.018053      0.004935\n",
       "7277   513.961753  513.80    0.161753      0.031482\n",
       "940    335.181570  334.75    0.431570      0.128923\n",
       "7608   186.764487  187.09   -0.325513      0.173988\n",
       "7222   718.165862  719.54   -1.374138      0.190975\n",
       "...           ...     ...         ...           ...\n",
       "4843   443.280330    1.23  442.050330  35939.051236\n",
       "8175   461.325421    1.22  460.105421  37713.559114\n",
       "4957   465.914488    1.21  464.704488  38405.329567\n",
       "433    470.159054    1.22  468.939054  38437.627338\n",
       "992   -474.180416    1.21 -475.390416  39288.464137\n",
       "\n",
       "[9806 rows x 4 columns]"
      ]
     },
     "execution_count": 41,
     "metadata": {},
     "output_type": "execute_result"
    }
   ],
   "source": [
    "df_pf.sort_values(by='Difference%')"
   ]
  },
  {
   "cell_type": "code",
   "execution_count": 42,
   "metadata": {},
   "outputs": [],
   "source": [
    "df_pf_better = df_pf[df_pf['Difference%']<100]"
   ]
  },
  {
   "cell_type": "markdown",
   "metadata": {},
   "source": [
    "### Final Testing Dataset... 3412 rows"
   ]
  },
  {
   "cell_type": "code",
   "execution_count": 43,
   "metadata": {},
   "outputs": [
    {
     "data": {
      "text/html": [
       "<div>\n",
       "<style scoped>\n",
       "    .dataframe tbody tr th:only-of-type {\n",
       "        vertical-align: middle;\n",
       "    }\n",
       "\n",
       "    .dataframe tbody tr th {\n",
       "        vertical-align: top;\n",
       "    }\n",
       "\n",
       "    .dataframe thead th {\n",
       "        text-align: right;\n",
       "    }\n",
       "</style>\n",
       "<table border=\"1\" class=\"dataframe\">\n",
       "  <thead>\n",
       "    <tr style=\"text-align: right;\">\n",
       "      <th></th>\n",
       "      <th>Predictions</th>\n",
       "      <th>Target</th>\n",
       "      <th>Residuals</th>\n",
       "      <th>Difference%</th>\n",
       "    </tr>\n",
       "  </thead>\n",
       "  <tbody>\n",
       "    <tr>\n",
       "      <th>9061</th>\n",
       "      <td>365.848053</td>\n",
       "      <td>365.83</td>\n",
       "      <td>0.018053</td>\n",
       "      <td>0.004935</td>\n",
       "    </tr>\n",
       "    <tr>\n",
       "      <th>7277</th>\n",
       "      <td>513.961753</td>\n",
       "      <td>513.80</td>\n",
       "      <td>0.161753</td>\n",
       "      <td>0.031482</td>\n",
       "    </tr>\n",
       "    <tr>\n",
       "      <th>940</th>\n",
       "      <td>335.181570</td>\n",
       "      <td>334.75</td>\n",
       "      <td>0.431570</td>\n",
       "      <td>0.128923</td>\n",
       "    </tr>\n",
       "    <tr>\n",
       "      <th>7608</th>\n",
       "      <td>186.764487</td>\n",
       "      <td>187.09</td>\n",
       "      <td>-0.325513</td>\n",
       "      <td>0.173988</td>\n",
       "    </tr>\n",
       "    <tr>\n",
       "      <th>7222</th>\n",
       "      <td>718.165862</td>\n",
       "      <td>719.54</td>\n",
       "      <td>-1.374138</td>\n",
       "      <td>0.190975</td>\n",
       "    </tr>\n",
       "    <tr>\n",
       "      <th>7486</th>\n",
       "      <td>70.137404</td>\n",
       "      <td>69.99</td>\n",
       "      <td>0.147404</td>\n",
       "      <td>0.210607</td>\n",
       "    </tr>\n",
       "    <tr>\n",
       "      <th>9564</th>\n",
       "      <td>426.179695</td>\n",
       "      <td>425.22</td>\n",
       "      <td>0.959695</td>\n",
       "      <td>0.225694</td>\n",
       "    </tr>\n",
       "    <tr>\n",
       "      <th>9638</th>\n",
       "      <td>447.476944</td>\n",
       "      <td>448.50</td>\n",
       "      <td>-1.023056</td>\n",
       "      <td>0.228106</td>\n",
       "    </tr>\n",
       "    <tr>\n",
       "      <th>8874</th>\n",
       "      <td>579.848305</td>\n",
       "      <td>578.24</td>\n",
       "      <td>1.608305</td>\n",
       "      <td>0.278138</td>\n",
       "    </tr>\n",
       "    <tr>\n",
       "      <th>2482</th>\n",
       "      <td>438.248345</td>\n",
       "      <td>436.90</td>\n",
       "      <td>1.348345</td>\n",
       "      <td>0.308616</td>\n",
       "    </tr>\n",
       "  </tbody>\n",
       "</table>\n",
       "</div>"
      ],
      "text/plain": [
       "      Predictions  Target  Residuals  Difference%\n",
       "9061   365.848053  365.83   0.018053     0.004935\n",
       "7277   513.961753  513.80   0.161753     0.031482\n",
       "940    335.181570  334.75   0.431570     0.128923\n",
       "7608   186.764487  187.09  -0.325513     0.173988\n",
       "7222   718.165862  719.54  -1.374138     0.190975\n",
       "7486    70.137404   69.99   0.147404     0.210607\n",
       "9564   426.179695  425.22   0.959695     0.225694\n",
       "9638   447.476944  448.50  -1.023056     0.228106\n",
       "8874   579.848305  578.24   1.608305     0.278138\n",
       "2482   438.248345  436.90   1.348345     0.308616"
      ]
     },
     "execution_count": 43,
     "metadata": {},
     "output_type": "execute_result"
    }
   ],
   "source": [
    "df_pf_better.sort_values(by='Difference%').head(10)"
   ]
  },
  {
   "cell_type": "markdown",
   "metadata": {},
   "source": [
    "### Training Dataset"
   ]
  },
  {
   "cell_type": "code",
   "execution_count": 44,
   "metadata": {},
   "outputs": [],
   "source": [
    "df_tr = pd.DataFrame(y_hat, columns=['Predcitions'])\n",
    "# model.predict(X_train) is y_hat"
   ]
  },
  {
   "cell_type": "code",
   "execution_count": 45,
   "metadata": {},
   "outputs": [],
   "source": [
    "X_train_new = pd.DataFrame(X_train)"
   ]
  },
  {
   "cell_type": "code",
   "execution_count": 46,
   "metadata": {},
   "outputs": [],
   "source": [
    "df_tr['Target'] = y_train"
   ]
  },
  {
   "cell_type": "code",
   "execution_count": 47,
   "metadata": {},
   "outputs": [],
   "source": [
    "df_tr['Residuals'] = df_tr['Predcitions'] - df_tr['Target']"
   ]
  },
  {
   "cell_type": "code",
   "execution_count": 48,
   "metadata": {},
   "outputs": [],
   "source": [
    "df_tr['Difference%'] = np.absolute(df_tr['Residuals']/df_tr['Target']*100)"
   ]
  },
  {
   "cell_type": "code",
   "execution_count": 49,
   "metadata": {},
   "outputs": [],
   "source": [
    "df_tr_better = df_tr[df_tr['Difference%']<100]"
   ]
  },
  {
   "cell_type": "markdown",
   "metadata": {},
   "source": [
    "### Final Training Dataset...7905 rows"
   ]
  },
  {
   "cell_type": "code",
   "execution_count": 50,
   "metadata": {
    "scrolled": true
   },
   "outputs": [
    {
     "data": {
      "text/html": [
       "<div>\n",
       "<style scoped>\n",
       "    .dataframe tbody tr th:only-of-type {\n",
       "        vertical-align: middle;\n",
       "    }\n",
       "\n",
       "    .dataframe tbody tr th {\n",
       "        vertical-align: top;\n",
       "    }\n",
       "\n",
       "    .dataframe thead th {\n",
       "        text-align: right;\n",
       "    }\n",
       "</style>\n",
       "<table border=\"1\" class=\"dataframe\">\n",
       "  <thead>\n",
       "    <tr style=\"text-align: right;\">\n",
       "      <th></th>\n",
       "      <th>Predcitions</th>\n",
       "      <th>Target</th>\n",
       "      <th>Residuals</th>\n",
       "      <th>Difference%</th>\n",
       "    </tr>\n",
       "  </thead>\n",
       "  <tbody>\n",
       "    <tr>\n",
       "      <th>8237</th>\n",
       "      <td>599.559743</td>\n",
       "      <td>599.61</td>\n",
       "      <td>-0.050257</td>\n",
       "      <td>0.008382</td>\n",
       "    </tr>\n",
       "    <tr>\n",
       "      <th>16986</th>\n",
       "      <td>565.239959</td>\n",
       "      <td>565.15</td>\n",
       "      <td>0.089959</td>\n",
       "      <td>0.015918</td>\n",
       "    </tr>\n",
       "    <tr>\n",
       "      <th>1743</th>\n",
       "      <td>30.939268</td>\n",
       "      <td>30.95</td>\n",
       "      <td>-0.010732</td>\n",
       "      <td>0.034676</td>\n",
       "    </tr>\n",
       "    <tr>\n",
       "      <th>7029</th>\n",
       "      <td>390.607127</td>\n",
       "      <td>390.82</td>\n",
       "      <td>-0.212873</td>\n",
       "      <td>0.054468</td>\n",
       "    </tr>\n",
       "    <tr>\n",
       "      <th>8546</th>\n",
       "      <td>213.585282</td>\n",
       "      <td>213.46</td>\n",
       "      <td>0.125282</td>\n",
       "      <td>0.058691</td>\n",
       "    </tr>\n",
       "    <tr>\n",
       "      <th>12713</th>\n",
       "      <td>452.090420</td>\n",
       "      <td>452.40</td>\n",
       "      <td>-0.309580</td>\n",
       "      <td>0.068431</td>\n",
       "    </tr>\n",
       "    <tr>\n",
       "      <th>8726</th>\n",
       "      <td>704.955553</td>\n",
       "      <td>704.41</td>\n",
       "      <td>0.545553</td>\n",
       "      <td>0.077448</td>\n",
       "    </tr>\n",
       "    <tr>\n",
       "      <th>16457</th>\n",
       "      <td>709.831874</td>\n",
       "      <td>710.51</td>\n",
       "      <td>-0.678126</td>\n",
       "      <td>0.095442</td>\n",
       "    </tr>\n",
       "    <tr>\n",
       "      <th>18114</th>\n",
       "      <td>630.976531</td>\n",
       "      <td>631.67</td>\n",
       "      <td>-0.693469</td>\n",
       "      <td>0.109783</td>\n",
       "    </tr>\n",
       "    <tr>\n",
       "      <th>18699</th>\n",
       "      <td>302.004368</td>\n",
       "      <td>301.66</td>\n",
       "      <td>0.344368</td>\n",
       "      <td>0.114158</td>\n",
       "    </tr>\n",
       "  </tbody>\n",
       "</table>\n",
       "</div>"
      ],
      "text/plain": [
       "       Predcitions  Target  Residuals  Difference%\n",
       "8237    599.559743  599.61  -0.050257     0.008382\n",
       "16986   565.239959  565.15   0.089959     0.015918\n",
       "1743     30.939268   30.95  -0.010732     0.034676\n",
       "7029    390.607127  390.82  -0.212873     0.054468\n",
       "8546    213.585282  213.46   0.125282     0.058691\n",
       "12713   452.090420  452.40  -0.309580     0.068431\n",
       "8726    704.955553  704.41   0.545553     0.077448\n",
       "16457   709.831874  710.51  -0.678126     0.095442\n",
       "18114   630.976531  631.67  -0.693469     0.109783\n",
       "18699   302.004368  301.66   0.344368     0.114158"
      ]
     },
     "execution_count": 50,
     "metadata": {},
     "output_type": "execute_result"
    }
   ],
   "source": [
    "df_tr_better.sort_values(by='Difference%').head(10)"
   ]
  }
 ],
 "metadata": {
  "kernelspec": {
   "display_name": "Python 3",
   "language": "python",
   "name": "python3"
  },
  "language_info": {
   "codemirror_mode": {
    "name": "ipython",
    "version": 3
   },
   "file_extension": ".py",
   "mimetype": "text/x-python",
   "name": "python",
   "nbconvert_exporter": "python",
   "pygments_lexer": "ipython3",
   "version": "3.8.5"
  }
 },
 "nbformat": 4,
 "nbformat_minor": 2
}
