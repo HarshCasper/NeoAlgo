{
  "nbformat": 4,
  "nbformat_minor": 0,
  "metadata": {
    "kernelspec": {
      "display_name": "Python 3",
      "language": "python",
      "name": "python3"
    },
    "language_info": {
      "codemirror_mode": {
        "name": "ipython",
        "version": 3
      },
      "file_extension": ".py",
      "mimetype": "text/x-python",
      "name": "python",
      "nbconvert_exporter": "python",
      "pygments_lexer": "ipython3",
      "version": "3.6.8"
    },
    "colab": {
      "name": "PCA_example.ipynb",
      "provenance": []
    }
  },
  "cells": [
    {
      "cell_type": "markdown",
      "metadata": {
        "id": "ijPhIQgyuE5V",
        "colab_type": "text"
      },
      "source": [
        "<h2 align=center> Principal Component Analysis</h2>"
      ]
    },
    {
      "cell_type": "markdown",
      "metadata": {
        "id": "5jRnJxNBuE5Y",
        "colab_type": "text"
      },
      "source": [
        "## IMPORTS and LOADING"
      ]
    },
    {
      "cell_type": "code",
      "metadata": {
        "id": "vZ5WqEs8uE5Z",
        "colab_type": "code",
        "colab": {}
      },
      "source": [
        "%matplotlib inline\n",
        "import pandas as pd\n",
        "import matplotlib.pyplot as plt\n",
        "import numpy as np\n",
        "import seaborn as sns"
      ],
      "execution_count": null,
      "outputs": []
    },
    {
      "cell_type": "code",
      "metadata": {
        "id": "k9YifIuNuE5c",
        "colab_type": "code",
        "colab": {}
      },
      "source": [
        "plt.style.use(\"ggplot\")\n",
        "plt.rcParams[\"figure.figsize\"] = (12,8)"
      ],
      "execution_count": null,
      "outputs": []
    },
    {
      "cell_type": "code",
      "metadata": {
        "id": "P7CvCFf1uE5e",
        "colab_type": "code",
        "colab": {},
        "outputId": "d7bf5da5-3caf-4fe2-9895-debda083029c"
      },
      "source": [
        "iris = pd.read_csv(\"https://archive.ics.uci.edu/ml/machine-learning-databases/iris/iris.data\",\n",
        "                 header = None)\n",
        "iris.head()"
      ],
      "execution_count": null,
      "outputs": [
        {
          "output_type": "execute_result",
          "data": {
            "text/html": [
              "<div>\n",
              "<style scoped>\n",
              "    .dataframe tbody tr th:only-of-type {\n",
              "        vertical-align: middle;\n",
              "    }\n",
              "\n",
              "    .dataframe tbody tr th {\n",
              "        vertical-align: top;\n",
              "    }\n",
              "\n",
              "    .dataframe thead th {\n",
              "        text-align: right;\n",
              "    }\n",
              "</style>\n",
              "<table border=\"1\" class=\"dataframe\">\n",
              "  <thead>\n",
              "    <tr style=\"text-align: right;\">\n",
              "      <th></th>\n",
              "      <th>0</th>\n",
              "      <th>1</th>\n",
              "      <th>2</th>\n",
              "      <th>3</th>\n",
              "      <th>4</th>\n",
              "    </tr>\n",
              "  </thead>\n",
              "  <tbody>\n",
              "    <tr>\n",
              "      <th>0</th>\n",
              "      <td>5.1</td>\n",
              "      <td>3.5</td>\n",
              "      <td>1.4</td>\n",
              "      <td>0.2</td>\n",
              "      <td>Iris-setosa</td>\n",
              "    </tr>\n",
              "    <tr>\n",
              "      <th>1</th>\n",
              "      <td>4.9</td>\n",
              "      <td>3.0</td>\n",
              "      <td>1.4</td>\n",
              "      <td>0.2</td>\n",
              "      <td>Iris-setosa</td>\n",
              "    </tr>\n",
              "    <tr>\n",
              "      <th>2</th>\n",
              "      <td>4.7</td>\n",
              "      <td>3.2</td>\n",
              "      <td>1.3</td>\n",
              "      <td>0.2</td>\n",
              "      <td>Iris-setosa</td>\n",
              "    </tr>\n",
              "    <tr>\n",
              "      <th>3</th>\n",
              "      <td>4.6</td>\n",
              "      <td>3.1</td>\n",
              "      <td>1.5</td>\n",
              "      <td>0.2</td>\n",
              "      <td>Iris-setosa</td>\n",
              "    </tr>\n",
              "    <tr>\n",
              "      <th>4</th>\n",
              "      <td>5.0</td>\n",
              "      <td>3.6</td>\n",
              "      <td>1.4</td>\n",
              "      <td>0.2</td>\n",
              "      <td>Iris-setosa</td>\n",
              "    </tr>\n",
              "  </tbody>\n",
              "</table>\n",
              "</div>"
            ],
            "text/plain": [
              "     0    1    2    3            4\n",
              "0  5.1  3.5  1.4  0.2  Iris-setosa\n",
              "1  4.9  3.0  1.4  0.2  Iris-setosa\n",
              "2  4.7  3.2  1.3  0.2  Iris-setosa\n",
              "3  4.6  3.1  1.5  0.2  Iris-setosa\n",
              "4  5.0  3.6  1.4  0.2  Iris-setosa"
            ]
          },
          "metadata": {
            "tags": []
          },
          "execution_count": 3
        }
      ]
    },
    {
      "cell_type": "code",
      "metadata": {
        "id": "2PXlrvRsuE5h",
        "colab_type": "code",
        "colab": {},
        "outputId": "54a28890-c999-433d-ef8f-4ebe16ebbec8"
      },
      "source": [
        "iris.columns=['sepal_length', 'sepal_width', 'petal_lenth', 'petal_width', 'species']\n",
        "iris.dropna(how = \"all\", inplace = True)\n",
        "iris.head()"
      ],
      "execution_count": null,
      "outputs": [
        {
          "output_type": "execute_result",
          "data": {
            "text/html": [
              "<div>\n",
              "<style scoped>\n",
              "    .dataframe tbody tr th:only-of-type {\n",
              "        vertical-align: middle;\n",
              "    }\n",
              "\n",
              "    .dataframe tbody tr th {\n",
              "        vertical-align: top;\n",
              "    }\n",
              "\n",
              "    .dataframe thead th {\n",
              "        text-align: right;\n",
              "    }\n",
              "</style>\n",
              "<table border=\"1\" class=\"dataframe\">\n",
              "  <thead>\n",
              "    <tr style=\"text-align: right;\">\n",
              "      <th></th>\n",
              "      <th>sepal_length</th>\n",
              "      <th>sepal_width</th>\n",
              "      <th>petal_lenth</th>\n",
              "      <th>petal_width</th>\n",
              "      <th>species</th>\n",
              "    </tr>\n",
              "  </thead>\n",
              "  <tbody>\n",
              "    <tr>\n",
              "      <th>0</th>\n",
              "      <td>5.1</td>\n",
              "      <td>3.5</td>\n",
              "      <td>1.4</td>\n",
              "      <td>0.2</td>\n",
              "      <td>Iris-setosa</td>\n",
              "    </tr>\n",
              "    <tr>\n",
              "      <th>1</th>\n",
              "      <td>4.9</td>\n",
              "      <td>3.0</td>\n",
              "      <td>1.4</td>\n",
              "      <td>0.2</td>\n",
              "      <td>Iris-setosa</td>\n",
              "    </tr>\n",
              "    <tr>\n",
              "      <th>2</th>\n",
              "      <td>4.7</td>\n",
              "      <td>3.2</td>\n",
              "      <td>1.3</td>\n",
              "      <td>0.2</td>\n",
              "      <td>Iris-setosa</td>\n",
              "    </tr>\n",
              "    <tr>\n",
              "      <th>3</th>\n",
              "      <td>4.6</td>\n",
              "      <td>3.1</td>\n",
              "      <td>1.5</td>\n",
              "      <td>0.2</td>\n",
              "      <td>Iris-setosa</td>\n",
              "    </tr>\n",
              "    <tr>\n",
              "      <th>4</th>\n",
              "      <td>5.0</td>\n",
              "      <td>3.6</td>\n",
              "      <td>1.4</td>\n",
              "      <td>0.2</td>\n",
              "      <td>Iris-setosa</td>\n",
              "    </tr>\n",
              "  </tbody>\n",
              "</table>\n",
              "</div>"
            ],
            "text/plain": [
              "   sepal_length  sepal_width  petal_lenth  petal_width      species\n",
              "0           5.1          3.5          1.4          0.2  Iris-setosa\n",
              "1           4.9          3.0          1.4          0.2  Iris-setosa\n",
              "2           4.7          3.2          1.3          0.2  Iris-setosa\n",
              "3           4.6          3.1          1.5          0.2  Iris-setosa\n",
              "4           5.0          3.6          1.4          0.2  Iris-setosa"
            ]
          },
          "metadata": {
            "tags": []
          },
          "execution_count": 4
        }
      ]
    },
    {
      "cell_type": "code",
      "metadata": {
        "id": "7_yYmEnWuE5j",
        "colab_type": "code",
        "colab": {},
        "outputId": "f2f50ac7-2244-4436-efa9-c6beb976d95e"
      },
      "source": [
        "iris.info()"
      ],
      "execution_count": null,
      "outputs": [
        {
          "output_type": "stream",
          "text": [
            "<class 'pandas.core.frame.DataFrame'>\n",
            "Int64Index: 150 entries, 0 to 149\n",
            "Data columns (total 5 columns):\n",
            "sepal_length    150 non-null float64\n",
            "sepal_width     150 non-null float64\n",
            "petal_lenth     150 non-null float64\n",
            "petal_width     150 non-null float64\n",
            "species         150 non-null object\n",
            "dtypes: float64(4), object(1)\n",
            "memory usage: 7.0+ KB\n"
          ],
          "name": "stdout"
        }
      ]
    },
    {
      "cell_type": "markdown",
      "metadata": {
        "id": "4_oFpX2quE5n",
        "colab_type": "text"
      },
      "source": [
        "## Visualize"
      ]
    },
    {
      "cell_type": "code",
      "metadata": {
        "id": "OI1vszRsuE5o",
        "colab_type": "code",
        "colab": {},
        "outputId": "b92f3bd2-1781-48f4-89ee-bf3ed0ba7e8b"
      },
      "source": [
        "sns.scatterplot(x = iris.sepal_length, y = iris.sepal_width,\n",
        "                hue = iris.species, style = iris.species);"
      ],
      "execution_count": null,
      "outputs": [
        {
          "output_type": "display_data",
          "data": {
            "image/png": "[encoded data removed]",
            "text/plain": [
              "<Figure size 864x576 with 1 Axes>"
            ]
          },
          "metadata": {
            "tags": []
          }
        }
      ]
    },
    {
      "cell_type": "markdown",
      "metadata": {
        "id": "ziCE-gdduE5t",
        "colab_type": "text"
      },
      "source": [
        " "
      ]
    },
    {
      "cell_type": "markdown",
      "metadata": {
        "id": "Ss6VHSSnuE5u",
        "colab_type": "text"
      },
      "source": [
        "## Standardize"
      ]
    },
    {
      "cell_type": "code",
      "metadata": {
        "id": "yKg6YDWEuE5v",
        "colab_type": "code",
        "colab": {}
      },
      "source": [
        "from sklearn.preprocessing import StandardScaler\n",
        "X = iris.iloc[:, 0:4].values\n",
        "y = iris.species.values\n",
        "\n",
        "X = StandardScaler().fit_transform(X)"
      ],
      "execution_count": null,
      "outputs": []
    },
    {
      "cell_type": "markdown",
      "metadata": {
        "id": "9XafovdKuE5z",
        "colab_type": "text"
      },
      "source": [
        " "
      ]
    },
    {
      "cell_type": "markdown",
      "metadata": {
        "id": "xTyYUXWMuE5z",
        "colab_type": "text"
      },
      "source": [
        "## Eigenvectors and Eigenvalues"
      ]
    },
    {
      "cell_type": "code",
      "metadata": {
        "id": "F_CT6PlcuE50",
        "colab_type": "code",
        "colab": {},
        "outputId": "07f30133-01a4-480d-c097-0efe717c5de5"
      },
      "source": [
        "covariance_matrix = np.cov(X.T)\n",
        "print(\"Covariance matrix:\\n\", covariance_matrix)"
      ],
      "execution_count": null,
      "outputs": [
        {
          "output_type": "stream",
          "text": [
            "Covariance matrix:\n",
            " [[ 1.00671141 -0.11010327  0.87760486  0.82344326]\n",
            " [-0.11010327  1.00671141 -0.42333835 -0.358937  ]\n",
            " [ 0.87760486 -0.42333835  1.00671141  0.96921855]\n",
            " [ 0.82344326 -0.358937    0.96921855  1.00671141]]\n"
          ],
          "name": "stdout"
        }
      ]
    },
    {
      "cell_type": "code",
      "metadata": {
        "id": "Vnhc3KVeuE52",
        "colab_type": "code",
        "colab": {},
        "outputId": "9740e77d-a595-400f-9bbe-41627db4319f"
      },
      "source": [
        "eigen_values, eigen_vectors = np.linalg.eig(covariance_matrix)\n",
        "print(\"Eigenvectors:\\n\", eigen_vectors, \"\\n\")\n",
        "print(\"Eigenvalues:\\n\", eigen_values)"
      ],
      "execution_count": null,
      "outputs": [
        {
          "output_type": "stream",
          "text": [
            "Eigenvectors:\n",
            " [[ 0.52237162 -0.37231836 -0.72101681  0.26199559]\n",
            " [-0.26335492 -0.92555649  0.24203288 -0.12413481]\n",
            " [ 0.58125401 -0.02109478  0.14089226 -0.80115427]\n",
            " [ 0.56561105 -0.06541577  0.6338014   0.52354627]] \n",
            "\n",
            "Eigenvalues:\n",
            " [2.93035378 0.92740362 0.14834223 0.02074601]\n"
          ],
          "name": "stdout"
        }
      ]
    },
    {
      "cell_type": "markdown",
      "metadata": {
        "id": "K-lbZ031uE5-",
        "colab_type": "text"
      },
      "source": [
        "## Picking Principal Components"
      ]
    },
    {
      "cell_type": "code",
      "metadata": {
        "id": "MT4uPchWuE5-",
        "colab_type": "code",
        "colab": {},
        "outputId": "d9953791-b903-4a1c-c0f2-f8f861d9eaee"
      },
      "source": [
        "for val in eigen_values:\n",
        "    print(val)"
      ],
      "execution_count": null,
      "outputs": [
        {
          "output_type": "stream",
          "text": [
            "2.930353775589317\n",
            "0.9274036215173419\n",
            "0.14834222648163944\n",
            "0.02074601399559593\n"
          ],
          "name": "stdout"
        }
      ]
    },
    {
      "cell_type": "code",
      "metadata": {
        "id": "GetECYxPuE6A",
        "colab_type": "code",
        "colab": {},
        "outputId": "d407af2a-80f2-47ad-9707-3ae82ba89f02"
      },
      "source": [
        "variance_explained = [(i / sum(eigen_values)) * 100 for i in eigen_values]\n",
        "variance_explained"
      ],
      "execution_count": null,
      "outputs": [
        {
          "output_type": "execute_result",
          "data": {
            "text/plain": [
              "[72.77045209380135, 23.03052326768065, 3.683831957627379, 0.5151926808906321]"
            ]
          },
          "metadata": {
            "tags": []
          },
          "execution_count": 12
        }
      ]
    },
    {
      "cell_type": "code",
      "metadata": {
        "id": "Zy32lN10uE6C",
        "colab_type": "code",
        "colab": {},
        "outputId": "5f4f62ad-e2de-486f-dd97-94c48354ba4d"
      },
      "source": [
        "cumulative_variance_explained = np.cumsum(variance_explained)\n",
        "cumulative_variance_explained"
      ],
      "execution_count": null,
      "outputs": [
        {
          "output_type": "execute_result",
          "data": {
            "text/plain": [
              "array([ 72.77045209,  95.80097536,  99.48480732, 100.        ])"
            ]
          },
          "metadata": {
            "tags": []
          },
          "execution_count": 13
        }
      ]
    },
    {
      "cell_type": "code",
      "metadata": {
        "id": "HTfqM0OuuE6E",
        "colab_type": "code",
        "colab": {},
        "outputId": "f3a8c9c6-5810-4021-fa21-9e85c3659482"
      },
      "source": [
        "sns.lineplot(x = [1,2,3,4], y = cumulative_variance_explained);\n",
        "plt.xlabel(\"Number of components\")\n",
        "plt.ylabel(\"Cumulative explained variance\")\n",
        "plt.title(\"Explained variance vs Number of components\")\n",
        "plt.show()"
      ],
      "execution_count": null,
      "outputs": [
        {
          "output_type": "display_data",
          "data": {
            "image/png": "[encoded data removed]",
            "text/plain": [
              "<Figure size 864x576 with 1 Axes>"
            ]
          },
          "metadata": {
            "tags": []
          }
        }
      ]
    },
    {
      "cell_type": "markdown",
      "metadata": {
        "id": "QzT8DPjZuE6I",
        "colab_type": "text"
      },
      "source": [
        " "
      ]
    },
    {
      "cell_type": "markdown",
      "metadata": {
        "id": "RhH9BhgouE6J",
        "colab_type": "text"
      },
      "source": [
        "## Lower-Dimensional"
      ]
    },
    {
      "cell_type": "code",
      "metadata": {
        "id": "xgitvn2puE6J",
        "colab_type": "code",
        "colab": {},
        "outputId": "5e2168ce-9b0d-473f-e061-6f1c448f97a6"
      },
      "source": [
        "projection_matrix = (eigen_vectors.T[:][:])[:2].T\n",
        "\n",
        "print(\"Projection matrix: \\n\", projection_matrix)"
      ],
      "execution_count": null,
      "outputs": [
        {
          "output_type": "stream",
          "text": [
            "Projection matrix: \n",
            " [[ 0.52237162 -0.37231836]\n",
            " [-0.26335492 -0.92555649]\n",
            " [ 0.58125401 -0.02109478]\n",
            " [ 0.56561105 -0.06541577]]\n"
          ],
          "name": "stdout"
        }
      ]
    },
    {
      "cell_type": "code",
      "metadata": {
        "id": "qHCSwYpAuE6L",
        "colab_type": "code",
        "colab": {}
      },
      "source": [
        "X_pca = X.dot(projection_matrix)"
      ],
      "execution_count": null,
      "outputs": []
    },
    {
      "cell_type": "code",
      "metadata": {
        "id": "V__vsYaYuE6M",
        "colab_type": "code",
        "colab": {},
        "outputId": "3193cede-664d-4f54-ed11-d2a5dbde5c3a"
      },
      "source": [
        "for species in ('Iris-setosa', 'Iris-versicolor', 'Iris-virginica'):\n",
        "    sns.scatterplot(X_pca[y==species, 0],\n",
        "                   X_pca[y==species, 1])"
      ],
      "execution_count": null,
      "outputs": [
        {
          "output_type": "display_data",
          "data": {
            "image/png": "[encoded data removed]",
            "text/plain": [
              "<Figure size 864x576 with 1 Axes>"
            ]
          },
          "metadata": {
            "tags": []
          }
        }
      ]
    },
    {
      "cell_type": "code",
      "metadata": {
        "id": "2usM_9pnuE6O",
        "colab_type": "code",
        "colab": {}
      },
      "source": [
        ""
      ],
      "execution_count": null,
      "outputs": []
    }
  ]
}