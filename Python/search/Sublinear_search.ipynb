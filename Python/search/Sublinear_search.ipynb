{
  "nbformat": 4,
  "nbformat_minor": 0,
  "metadata": {
    "colab": {
      "name": "Sublinear_search.ipynb",
      "provenance": [],
      "collapsed_sections": []
    },
    "kernelspec": {
      "name": "python3",
      "display_name": "Python 3"
    }
  },
  "cells": [
    {
      "cell_type": "markdown",
      "metadata": {
        "id": "_v_sabWmZcIB",
        "colab_type": "text"
      },
      "source": [
        "## Sublinear Search Implementation"
      ]
    },
    {
      "cell_type": "markdown",
      "metadata": {
        "id": "RTo-bBaxZuQr",
        "colab_type": "text"
      },
      "source": [
        "### IMPORTS:"
      ]
    },
    {
      "cell_type": "code",
      "metadata": {
        "id": "zwz0WeKOZYlO",
        "colab_type": "code",
        "colab": {}
      },
      "source": [
        "import numpy as np\n",
        "from random import choice"
      ],
      "execution_count": 1,
      "outputs": []
    },
    {
      "cell_type": "markdown",
      "metadata": {
        "id": "TRPSk6w6Z0Sp",
        "colab_type": "text"
      },
      "source": [
        "### Sublinear Search Implementation"
      ]
    },
    {
      "cell_type": "code",
      "metadata": {
        "id": "GyDNjjH9ZwR0",
        "colab_type": "code",
        "colab": {}
      },
      "source": [
        "def sub_linear_searcher(inp_list, x):\n",
        "\trand_list = np.array(inp_list)\n",
        "\tnp.random.shuffle(rand_list)\n",
        "\ts = rand_list[:int(len(inp_list)**0.5)]\n",
        "\tpresence = False\n",
        "\tp = s[0]\n",
        "\tq = s[0]\n",
        "\tmin_p = p-x\n",
        "\tmax_q = x-q\n",
        "\tfor i in range(len(s)):\n",
        "\t\tif s[i]<=x and x-s[i]<min_p:\n",
        "\t\t\tp = s[i]\n",
        "\t\t\tmin_p = p-x\n",
        "\t\tif s[i]>x and s[i]-x<max_q:\n",
        "\t\t\tq = s[i]\n",
        "\t\t\tmax_q = x-q\n",
        "\n",
        "\tfor i in range(inp_list.index(p),inp_list.index(q)):\n",
        "\t\tif inp_list[i] == x:\n",
        "\t\t\tpresence = True\n",
        "\t\t\tbreak\n",
        "\treturn presence"
      ],
      "execution_count": 2,
      "outputs": []
    },
    {
      "cell_type": "markdown",
      "metadata": {
        "id": "-GUqDC4iZ72j",
        "colab_type": "text"
      },
      "source": [
        "Creating A List"
      ]
    },
    {
      "cell_type": "code",
      "metadata": {
        "id": "9yIawikeZ4fu",
        "colab_type": "code",
        "colab": {}
      },
      "source": [
        "arr = [i for i in range(0,10000,3)]"
      ],
      "execution_count": 3,
      "outputs": []
    },
    {
      "cell_type": "markdown",
      "metadata": {
        "id": "OUXwFaA6aCKS",
        "colab_type": "text"
      },
      "source": [
        "## Results:"
      ]
    },
    {
      "cell_type": "code",
      "metadata": {
        "id": "h8n9XFtrZ-S9",
        "colab_type": "code",
        "colab": {
          "base_uri": "https://localhost:8080/",
          "height": 84
        },
        "outputId": "21d4d9cd-e75f-4eee-a881-81e6e2a67987"
      },
      "source": [
        "iterations = 10000#int(input(\"Iterations\\t\"))\n",
        "\n",
        "list_outputs = []\n",
        "for i in range(iterations):\n",
        "\tn = choice(arr)\n",
        "\tpre = sub_linear_searcher(arr, n)\n",
        "\tlist_outputs.append(pre)\n",
        "print('sub_linear_searcher\\t')#, list_outputs)\n",
        "print('Number of Trials:\\t', len(list_outputs))\n",
        "print('Number of Trues\\t',list_outputs.count(True))\n",
        "print('Numer of False\\t',list_outputs.count(False))"
      ],
      "execution_count": 4,
      "outputs": [
        {
          "output_type": "stream",
          "text": [
            "sub_linear_searcher\t\n",
            "Number of Trials:\t 10000\n",
            "Number of Trues\t 9320\n",
            "Numer of False\t 680\n"
          ],
          "name": "stdout"
        }
      ]
    },
    {
      "cell_type": "code",
      "metadata": {
        "id": "VpvjjKiraEmI",
        "colab_type": "code",
        "colab": {}
      },
      "source": [
        ""
      ],
      "execution_count": 4,
      "outputs": []
    }
  ]
}